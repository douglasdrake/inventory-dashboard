{
 "cells": [
  {
   "cell_type": "markdown",
   "metadata": {},
   "source": [
    "# Nearest Neighbor Distances Between Stations"
   ]
  },
  {
   "cell_type": "code",
   "execution_count": 2,
   "metadata": {},
   "outputs": [],
   "source": [
    "# import the dependencies\n",
    "import os\n",
    "\n",
    "import pandas as pd\n",
    "import numpy as np\n",
    "import matplotlib.pyplot as plt\n",
    "import seaborn as sns\n",
    "\n",
    "from sklearn.neighbors import BallTree"
   ]
  },
  {
   "cell_type": "code",
   "execution_count": 3,
   "metadata": {},
   "outputs": [],
   "source": [
    "CSV_PATH = os.path.join(\"static\", \"data\", \"csv\")\n",
    "IMG_PATH = os.path.join(\"static\", \"img\")\n",
    "FILE_NAME = \"full_inventory.csv\"\n",
    "FILE_PATH = os.path.join(CSV_PATH, FILE_NAME)"
   ]
  },
  {
   "cell_type": "code",
   "execution_count": 4,
   "metadata": {},
   "outputs": [
    {
     "data": {
      "text/html": [
       "<div>\n",
       "<style scoped>\n",
       "    .dataframe tbody tr th:only-of-type {\n",
       "        vertical-align: middle;\n",
       "    }\n",
       "\n",
       "    .dataframe tbody tr th {\n",
       "        vertical-align: top;\n",
       "    }\n",
       "\n",
       "    .dataframe thead th {\n",
       "        text-align: right;\n",
       "    }\n",
       "</style>\n",
       "<table border=\"1\" class=\"dataframe\">\n",
       "  <thead>\n",
       "    <tr style=\"text-align: right;\">\n",
       "      <th></th>\n",
       "      <th>station_id</th>\n",
       "      <th>latitude</th>\n",
       "      <th>longitude</th>\n",
       "      <th>element</th>\n",
       "      <th>first_year</th>\n",
       "      <th>last_year</th>\n",
       "      <th>years</th>\n",
       "      <th>elevation</th>\n",
       "      <th>state</th>\n",
       "      <th>name</th>\n",
       "      <th>gsn_flag</th>\n",
       "      <th>hcn_crn_flag</th>\n",
       "      <th>wmo_id</th>\n",
       "      <th>state_name</th>\n",
       "      <th>country_code</th>\n",
       "      <th>country</th>\n",
       "      <th>continent_code</th>\n",
       "      <th>continent</th>\n",
       "      <th>type</th>\n",
       "    </tr>\n",
       "  </thead>\n",
       "  <tbody>\n",
       "    <tr>\n",
       "      <th>0</th>\n",
       "      <td>ACW00011604</td>\n",
       "      <td>17.1167</td>\n",
       "      <td>-61.7833</td>\n",
       "      <td>TMAX</td>\n",
       "      <td>1949</td>\n",
       "      <td>1949</td>\n",
       "      <td>1</td>\n",
       "      <td>10.1</td>\n",
       "      <td>NaN</td>\n",
       "      <td>ST JOHNS COOLIDGE FLD</td>\n",
       "      <td>NaN</td>\n",
       "      <td>NaN</td>\n",
       "      <td>NaN</td>\n",
       "      <td>NaN</td>\n",
       "      <td>AC</td>\n",
       "      <td>Antigua and Barbuda</td>\n",
       "      <td>NA</td>\n",
       "      <td>North America</td>\n",
       "      <td>W</td>\n",
       "    </tr>\n",
       "    <tr>\n",
       "      <th>1</th>\n",
       "      <td>ACW00011604</td>\n",
       "      <td>17.1167</td>\n",
       "      <td>-61.7833</td>\n",
       "      <td>TMIN</td>\n",
       "      <td>1949</td>\n",
       "      <td>1949</td>\n",
       "      <td>1</td>\n",
       "      <td>10.1</td>\n",
       "      <td>NaN</td>\n",
       "      <td>ST JOHNS COOLIDGE FLD</td>\n",
       "      <td>NaN</td>\n",
       "      <td>NaN</td>\n",
       "      <td>NaN</td>\n",
       "      <td>NaN</td>\n",
       "      <td>AC</td>\n",
       "      <td>Antigua and Barbuda</td>\n",
       "      <td>NA</td>\n",
       "      <td>North America</td>\n",
       "      <td>W</td>\n",
       "    </tr>\n",
       "    <tr>\n",
       "      <th>2</th>\n",
       "      <td>ACW00011604</td>\n",
       "      <td>17.1167</td>\n",
       "      <td>-61.7833</td>\n",
       "      <td>PRCP</td>\n",
       "      <td>1949</td>\n",
       "      <td>1949</td>\n",
       "      <td>1</td>\n",
       "      <td>10.1</td>\n",
       "      <td>NaN</td>\n",
       "      <td>ST JOHNS COOLIDGE FLD</td>\n",
       "      <td>NaN</td>\n",
       "      <td>NaN</td>\n",
       "      <td>NaN</td>\n",
       "      <td>NaN</td>\n",
       "      <td>AC</td>\n",
       "      <td>Antigua and Barbuda</td>\n",
       "      <td>NA</td>\n",
       "      <td>North America</td>\n",
       "      <td>W</td>\n",
       "    </tr>\n",
       "  </tbody>\n",
       "</table>\n",
       "</div>"
      ],
      "text/plain": [
       "    station_id  latitude  longitude element  first_year  last_year  years  \\\n",
       "0  ACW00011604   17.1167   -61.7833    TMAX        1949       1949      1   \n",
       "1  ACW00011604   17.1167   -61.7833    TMIN        1949       1949      1   \n",
       "2  ACW00011604   17.1167   -61.7833    PRCP        1949       1949      1   \n",
       "\n",
       "   elevation  state                   name  gsn_flag  hcn_crn_flag  wmo_id  \\\n",
       "0       10.1    NaN  ST JOHNS COOLIDGE FLD       NaN           NaN     NaN   \n",
       "1       10.1    NaN  ST JOHNS COOLIDGE FLD       NaN           NaN     NaN   \n",
       "2       10.1    NaN  ST JOHNS COOLIDGE FLD       NaN           NaN     NaN   \n",
       "\n",
       "   state_name country_code              country continent_code      continent  \\\n",
       "0         NaN           AC  Antigua and Barbuda             NA  North America   \n",
       "1         NaN           AC  Antigua and Barbuda             NA  North America   \n",
       "2         NaN           AC  Antigua and Barbuda             NA  North America   \n",
       "\n",
       "  type  \n",
       "0    W  \n",
       "1    W  \n",
       "2    W  "
      ]
     },
     "execution_count": 4,
     "metadata": {},
     "output_type": "execute_result"
    }
   ],
   "source": [
    "# Read in the inventory file\n",
    "# because 'NA' is the code for North America, we need to change pandas.read_csv default behavior\n",
    "# for reading missing values (na's)...\n",
    "\n",
    "df = pd.read_csv(FILE_PATH, keep_default_na=False, na_values=['', '#N/A', '#N/A N/A', '#NA', '-1.#IND', '-1.#QNAN', '-NaN', '-nan',\n",
    "    '1.#IND', '1.#QNAN', 'N/A', 'NULL', 'NaN', 'n/a', 'nan',\n",
    "    'null'], nrows=3)\n",
    "df.head()"
   ]
  },
  {
   "cell_type": "code",
   "execution_count": 5,
   "metadata": {},
   "outputs": [],
   "source": [
    "dtypes = {'station_id': str, 'latitude': np.float64, 'longitude': np.float64, 'first_year': np.int64, 'last_year': np.int64,\\\n",
    "          'year': np.int64, 'elevation': np.float64, 'state': str, 'name': str, 'gsn_flag': str, 'hcn_crn_flag': str,\\\n",
    "          'wmo_id': str, 'state_name': str, 'country_code': str, 'country': str, 'continent_code': str, 'continent': str,\\\n",
    "          'type': str}\n",
    "\n",
    "df = pd.read_csv(FILE_PATH, keep_default_na=False, dtype = dtypes, na_values=['', '#N/A', '#N/A N/A', '#NA', '-1.#IND', '-1.#QNAN', '-NaN', '-nan',\n",
    "    '1.#IND', '1.#QNAN', 'N/A', 'NULL', 'NaN', 'n/a', 'nan',\n",
    "    'null'])"
   ]
  },
  {
   "cell_type": "code",
   "execution_count": 6,
   "metadata": {},
   "outputs": [
    {
     "data": {
      "text/plain": [
       "(684293, 19)"
      ]
     },
     "execution_count": 6,
     "metadata": {},
     "output_type": "execute_result"
    }
   ],
   "source": [
    "df.shape"
   ]
  },
  {
   "cell_type": "code",
   "execution_count": 7,
   "metadata": {},
   "outputs": [
    {
     "data": {
      "text/html": [
       "<div>\n",
       "<style scoped>\n",
       "    .dataframe tbody tr th:only-of-type {\n",
       "        vertical-align: middle;\n",
       "    }\n",
       "\n",
       "    .dataframe tbody tr th {\n",
       "        vertical-align: top;\n",
       "    }\n",
       "\n",
       "    .dataframe thead th {\n",
       "        text-align: right;\n",
       "    }\n",
       "</style>\n",
       "<table border=\"1\" class=\"dataframe\">\n",
       "  <thead>\n",
       "    <tr style=\"text-align: right;\">\n",
       "      <th></th>\n",
       "      <th>station_id</th>\n",
       "      <th>latitude</th>\n",
       "      <th>longitude</th>\n",
       "      <th>element</th>\n",
       "      <th>first_year</th>\n",
       "      <th>last_year</th>\n",
       "      <th>years</th>\n",
       "      <th>elevation</th>\n",
       "      <th>state</th>\n",
       "      <th>name</th>\n",
       "      <th>gsn_flag</th>\n",
       "      <th>hcn_crn_flag</th>\n",
       "      <th>wmo_id</th>\n",
       "      <th>state_name</th>\n",
       "      <th>country_code</th>\n",
       "      <th>country</th>\n",
       "      <th>continent_code</th>\n",
       "      <th>continent</th>\n",
       "      <th>type</th>\n",
       "    </tr>\n",
       "  </thead>\n",
       "  <tbody>\n",
       "    <tr>\n",
       "      <th>0</th>\n",
       "      <td>ACW00011604</td>\n",
       "      <td>17.1167</td>\n",
       "      <td>-61.7833</td>\n",
       "      <td>TMAX</td>\n",
       "      <td>1949</td>\n",
       "      <td>1949</td>\n",
       "      <td>1</td>\n",
       "      <td>10.1</td>\n",
       "      <td>NaN</td>\n",
       "      <td>ST JOHNS COOLIDGE FLD</td>\n",
       "      <td>NaN</td>\n",
       "      <td>NaN</td>\n",
       "      <td>NaN</td>\n",
       "      <td>NaN</td>\n",
       "      <td>AC</td>\n",
       "      <td>Antigua and Barbuda</td>\n",
       "      <td>NA</td>\n",
       "      <td>North America</td>\n",
       "      <td>W</td>\n",
       "    </tr>\n",
       "    <tr>\n",
       "      <th>1</th>\n",
       "      <td>ACW00011604</td>\n",
       "      <td>17.1167</td>\n",
       "      <td>-61.7833</td>\n",
       "      <td>TMIN</td>\n",
       "      <td>1949</td>\n",
       "      <td>1949</td>\n",
       "      <td>1</td>\n",
       "      <td>10.1</td>\n",
       "      <td>NaN</td>\n",
       "      <td>ST JOHNS COOLIDGE FLD</td>\n",
       "      <td>NaN</td>\n",
       "      <td>NaN</td>\n",
       "      <td>NaN</td>\n",
       "      <td>NaN</td>\n",
       "      <td>AC</td>\n",
       "      <td>Antigua and Barbuda</td>\n",
       "      <td>NA</td>\n",
       "      <td>North America</td>\n",
       "      <td>W</td>\n",
       "    </tr>\n",
       "    <tr>\n",
       "      <th>2</th>\n",
       "      <td>ACW00011604</td>\n",
       "      <td>17.1167</td>\n",
       "      <td>-61.7833</td>\n",
       "      <td>PRCP</td>\n",
       "      <td>1949</td>\n",
       "      <td>1949</td>\n",
       "      <td>1</td>\n",
       "      <td>10.1</td>\n",
       "      <td>NaN</td>\n",
       "      <td>ST JOHNS COOLIDGE FLD</td>\n",
       "      <td>NaN</td>\n",
       "      <td>NaN</td>\n",
       "      <td>NaN</td>\n",
       "      <td>NaN</td>\n",
       "      <td>AC</td>\n",
       "      <td>Antigua and Barbuda</td>\n",
       "      <td>NA</td>\n",
       "      <td>North America</td>\n",
       "      <td>W</td>\n",
       "    </tr>\n",
       "    <tr>\n",
       "      <th>3</th>\n",
       "      <td>ACW00011604</td>\n",
       "      <td>17.1167</td>\n",
       "      <td>-61.7833</td>\n",
       "      <td>SNOW</td>\n",
       "      <td>1949</td>\n",
       "      <td>1949</td>\n",
       "      <td>1</td>\n",
       "      <td>10.1</td>\n",
       "      <td>NaN</td>\n",
       "      <td>ST JOHNS COOLIDGE FLD</td>\n",
       "      <td>NaN</td>\n",
       "      <td>NaN</td>\n",
       "      <td>NaN</td>\n",
       "      <td>NaN</td>\n",
       "      <td>AC</td>\n",
       "      <td>Antigua and Barbuda</td>\n",
       "      <td>NA</td>\n",
       "      <td>North America</td>\n",
       "      <td>W</td>\n",
       "    </tr>\n",
       "    <tr>\n",
       "      <th>4</th>\n",
       "      <td>ACW00011604</td>\n",
       "      <td>17.1167</td>\n",
       "      <td>-61.7833</td>\n",
       "      <td>SNWD</td>\n",
       "      <td>1949</td>\n",
       "      <td>1949</td>\n",
       "      <td>1</td>\n",
       "      <td>10.1</td>\n",
       "      <td>NaN</td>\n",
       "      <td>ST JOHNS COOLIDGE FLD</td>\n",
       "      <td>NaN</td>\n",
       "      <td>NaN</td>\n",
       "      <td>NaN</td>\n",
       "      <td>NaN</td>\n",
       "      <td>AC</td>\n",
       "      <td>Antigua and Barbuda</td>\n",
       "      <td>NA</td>\n",
       "      <td>North America</td>\n",
       "      <td>W</td>\n",
       "    </tr>\n",
       "  </tbody>\n",
       "</table>\n",
       "</div>"
      ],
      "text/plain": [
       "    station_id  latitude  longitude element  first_year  last_year  years  \\\n",
       "0  ACW00011604   17.1167   -61.7833    TMAX        1949       1949      1   \n",
       "1  ACW00011604   17.1167   -61.7833    TMIN        1949       1949      1   \n",
       "2  ACW00011604   17.1167   -61.7833    PRCP        1949       1949      1   \n",
       "3  ACW00011604   17.1167   -61.7833    SNOW        1949       1949      1   \n",
       "4  ACW00011604   17.1167   -61.7833    SNWD        1949       1949      1   \n",
       "\n",
       "   elevation state                   name gsn_flag hcn_crn_flag wmo_id  \\\n",
       "0       10.1   NaN  ST JOHNS COOLIDGE FLD      NaN          NaN    NaN   \n",
       "1       10.1   NaN  ST JOHNS COOLIDGE FLD      NaN          NaN    NaN   \n",
       "2       10.1   NaN  ST JOHNS COOLIDGE FLD      NaN          NaN    NaN   \n",
       "3       10.1   NaN  ST JOHNS COOLIDGE FLD      NaN          NaN    NaN   \n",
       "4       10.1   NaN  ST JOHNS COOLIDGE FLD      NaN          NaN    NaN   \n",
       "\n",
       "  state_name country_code              country continent_code      continent  \\\n",
       "0        NaN           AC  Antigua and Barbuda             NA  North America   \n",
       "1        NaN           AC  Antigua and Barbuda             NA  North America   \n",
       "2        NaN           AC  Antigua and Barbuda             NA  North America   \n",
       "3        NaN           AC  Antigua and Barbuda             NA  North America   \n",
       "4        NaN           AC  Antigua and Barbuda             NA  North America   \n",
       "\n",
       "  type  \n",
       "0    W  \n",
       "1    W  \n",
       "2    W  \n",
       "3    W  \n",
       "4    W  "
      ]
     },
     "execution_count": 7,
     "metadata": {},
     "output_type": "execute_result"
    }
   ],
   "source": [
    "df.head()"
   ]
  },
  {
   "cell_type": "code",
   "execution_count": 25,
   "metadata": {},
   "outputs": [],
   "source": [
    "# helper function to return all stations reporting a given element in a given year on a given continent:\n",
    "\n",
    "def query_by_year_and_element(df, year, element, continent):\n",
    "    return df[(df.element == element) & (df.first_year <= year) & (df.last_year >= year) & (df.continent == continent)].reset_index()"
   ]
  },
  {
   "cell_type": "code",
   "execution_count": 26,
   "metadata": {},
   "outputs": [],
   "source": [
    "tmax_1980_na = query_by_year_and_element(df, 1980, 'PRCP', 'North America')"
   ]
  },
  {
   "cell_type": "code",
   "execution_count": 27,
   "metadata": {},
   "outputs": [
    {
     "data": {
      "text/plain": [
       "(16495, 20)"
      ]
     },
     "execution_count": 27,
     "metadata": {},
     "output_type": "execute_result"
    }
   ],
   "source": [
    "tmax_1980_na.shape"
   ]
  },
  {
   "cell_type": "code",
   "execution_count": 28,
   "metadata": {},
   "outputs": [
    {
     "data": {
      "text/html": [
       "<div>\n",
       "<style scoped>\n",
       "    .dataframe tbody tr th:only-of-type {\n",
       "        vertical-align: middle;\n",
       "    }\n",
       "\n",
       "    .dataframe tbody tr th {\n",
       "        vertical-align: top;\n",
       "    }\n",
       "\n",
       "    .dataframe thead th {\n",
       "        text-align: right;\n",
       "    }\n",
       "</style>\n",
       "<table border=\"1\" class=\"dataframe\">\n",
       "  <thead>\n",
       "    <tr style=\"text-align: right;\">\n",
       "      <th></th>\n",
       "      <th>index</th>\n",
       "      <th>station_id</th>\n",
       "      <th>latitude</th>\n",
       "      <th>longitude</th>\n",
       "      <th>element</th>\n",
       "      <th>first_year</th>\n",
       "      <th>last_year</th>\n",
       "      <th>years</th>\n",
       "      <th>elevation</th>\n",
       "      <th>state</th>\n",
       "      <th>name</th>\n",
       "      <th>gsn_flag</th>\n",
       "      <th>hcn_crn_flag</th>\n",
       "      <th>wmo_id</th>\n",
       "      <th>state_name</th>\n",
       "      <th>country_code</th>\n",
       "      <th>country</th>\n",
       "      <th>continent_code</th>\n",
       "      <th>continent</th>\n",
       "      <th>type</th>\n",
       "    </tr>\n",
       "  </thead>\n",
       "  <tbody>\n",
       "    <tr>\n",
       "      <th>0</th>\n",
       "      <td>62846</td>\n",
       "      <td>BB000078954</td>\n",
       "      <td>13.0670</td>\n",
       "      <td>-59.4830</td>\n",
       "      <td>PRCP</td>\n",
       "      <td>1973</td>\n",
       "      <td>2018</td>\n",
       "      <td>46</td>\n",
       "      <td>52.0</td>\n",
       "      <td>NaN</td>\n",
       "      <td>GRANTLEY ADAMS</td>\n",
       "      <td>GSN</td>\n",
       "      <td>NaN</td>\n",
       "      <td>78954.0</td>\n",
       "      <td>NaN</td>\n",
       "      <td>BB</td>\n",
       "      <td>Barbados</td>\n",
       "      <td>NA</td>\n",
       "      <td>North America</td>\n",
       "      <td>0</td>\n",
       "    </tr>\n",
       "    <tr>\n",
       "      <th>1</th>\n",
       "      <td>62904</td>\n",
       "      <td>BDM00078016</td>\n",
       "      <td>32.3667</td>\n",
       "      <td>-64.6833</td>\n",
       "      <td>PRCP</td>\n",
       "      <td>1949</td>\n",
       "      <td>2019</td>\n",
       "      <td>71</td>\n",
       "      <td>6.1</td>\n",
       "      <td>NaN</td>\n",
       "      <td>L F WADE INTL AP KINDLEY FLD</td>\n",
       "      <td>GSN</td>\n",
       "      <td>NaN</td>\n",
       "      <td>78016.0</td>\n",
       "      <td>NaN</td>\n",
       "      <td>BD</td>\n",
       "      <td>Bermuda [United Kingdom]</td>\n",
       "      <td>NA</td>\n",
       "      <td>North America</td>\n",
       "      <td>M</td>\n",
       "    </tr>\n",
       "    <tr>\n",
       "      <th>2</th>\n",
       "      <td>62957</td>\n",
       "      <td>BF000078073</td>\n",
       "      <td>25.0500</td>\n",
       "      <td>-77.4670</td>\n",
       "      <td>PRCP</td>\n",
       "      <td>1973</td>\n",
       "      <td>2019</td>\n",
       "      <td>47</td>\n",
       "      <td>5.0</td>\n",
       "      <td>NaN</td>\n",
       "      <td>NASSAU AIRPORT NEW</td>\n",
       "      <td>GSN</td>\n",
       "      <td>NaN</td>\n",
       "      <td>78073.0</td>\n",
       "      <td>NaN</td>\n",
       "      <td>BF</td>\n",
       "      <td>Bahamas, The</td>\n",
       "      <td>NA</td>\n",
       "      <td>North America</td>\n",
       "      <td>0</td>\n",
       "    </tr>\n",
       "    <tr>\n",
       "      <th>3</th>\n",
       "      <td>63161</td>\n",
       "      <td>BHM00078583</td>\n",
       "      <td>17.5390</td>\n",
       "      <td>-88.3080</td>\n",
       "      <td>PRCP</td>\n",
       "      <td>1960</td>\n",
       "      <td>2019</td>\n",
       "      <td>60</td>\n",
       "      <td>4.6</td>\n",
       "      <td>NaN</td>\n",
       "      <td>PHILIP S W GOLDSON INTL</td>\n",
       "      <td>NaN</td>\n",
       "      <td>NaN</td>\n",
       "      <td>78583.0</td>\n",
       "      <td>NaN</td>\n",
       "      <td>BH</td>\n",
       "      <td>Belize</td>\n",
       "      <td>NA</td>\n",
       "      <td>North America</td>\n",
       "      <td>M</td>\n",
       "    </tr>\n",
       "    <tr>\n",
       "      <th>4</th>\n",
       "      <td>70701</td>\n",
       "      <td>CA001010235</td>\n",
       "      <td>48.4000</td>\n",
       "      <td>-123.4833</td>\n",
       "      <td>PRCP</td>\n",
       "      <td>1971</td>\n",
       "      <td>1995</td>\n",
       "      <td>25</td>\n",
       "      <td>17.0</td>\n",
       "      <td>BC</td>\n",
       "      <td>ALBERT HEAD</td>\n",
       "      <td>NaN</td>\n",
       "      <td>NaN</td>\n",
       "      <td>NaN</td>\n",
       "      <td>BRITISH COLUMBIA</td>\n",
       "      <td>CA</td>\n",
       "      <td>Canada</td>\n",
       "      <td>NA</td>\n",
       "      <td>North America</td>\n",
       "      <td>0</td>\n",
       "    </tr>\n",
       "  </tbody>\n",
       "</table>\n",
       "</div>"
      ],
      "text/plain": [
       "   index   station_id  latitude  longitude element  first_year  last_year  \\\n",
       "0  62846  BB000078954   13.0670   -59.4830    PRCP        1973       2018   \n",
       "1  62904  BDM00078016   32.3667   -64.6833    PRCP        1949       2019   \n",
       "2  62957  BF000078073   25.0500   -77.4670    PRCP        1973       2019   \n",
       "3  63161  BHM00078583   17.5390   -88.3080    PRCP        1960       2019   \n",
       "4  70701  CA001010235   48.4000  -123.4833    PRCP        1971       1995   \n",
       "\n",
       "   years  elevation state                          name gsn_flag hcn_crn_flag  \\\n",
       "0     46       52.0   NaN                GRANTLEY ADAMS      GSN          NaN   \n",
       "1     71        6.1   NaN  L F WADE INTL AP KINDLEY FLD      GSN          NaN   \n",
       "2     47        5.0   NaN            NASSAU AIRPORT NEW      GSN          NaN   \n",
       "3     60        4.6   NaN       PHILIP S W GOLDSON INTL      NaN          NaN   \n",
       "4     25       17.0    BC                   ALBERT HEAD      NaN          NaN   \n",
       "\n",
       "    wmo_id        state_name country_code                   country  \\\n",
       "0  78954.0               NaN           BB                  Barbados   \n",
       "1  78016.0               NaN           BD  Bermuda [United Kingdom]   \n",
       "2  78073.0               NaN           BF              Bahamas, The   \n",
       "3  78583.0               NaN           BH                    Belize   \n",
       "4      NaN  BRITISH COLUMBIA           CA                    Canada   \n",
       "\n",
       "  continent_code      continent type  \n",
       "0             NA  North America    0  \n",
       "1             NA  North America    M  \n",
       "2             NA  North America    0  \n",
       "3             NA  North America    M  \n",
       "4             NA  North America    0  "
      ]
     },
     "execution_count": 28,
     "metadata": {},
     "output_type": "execute_result"
    }
   ],
   "source": [
    "tmax_1980_na.head()"
   ]
  },
  {
   "cell_type": "code",
   "execution_count": 13,
   "metadata": {},
   "outputs": [],
   "source": [
    "# Make a BallTree of the stations:\n",
    "\n",
    "bt = BallTree(np.deg2rad(tmax_1980_na[['latitude', 'longitude']].values), metric='haversine')"
   ]
  },
  {
   "cell_type": "code",
   "execution_count": 49,
   "metadata": {},
   "outputs": [],
   "source": [
    "def get_nearest_neighbor_distance(data_frame):\n",
    "    \"\"\"\n",
    "    For each station, find the closest station using geodesic distance.  Returns a \n",
    "    copy of the df with added columns `nn_dist` and `nn_station`.\n",
    "    \"\"\"\n",
    "    #\n",
    "    nn_dist = []\n",
    "    nn_station = []\n",
    "    num_rows = data_frame.shape[0]\n",
    "\n",
    "    for row in range(num_rows):\n",
    "        # For each row in the data frame, construct a ball_tree to search for nearest neighbors\n",
    "        df_minus_row = data_frame.drop([row])\n",
    "        ball_tree = BallTree(np.deg2rad(df_minus_row[['latitude', 'longitude']].values), metric='haversine')\n",
    "        \n",
    "        # The query point is the point dropped from the tree\n",
    "        query_lat = [data_frame.latitude[row]]\n",
    "        query_lon = [data_frame.longitude[row]]\n",
    "        \n",
    "        distance, index = ball_tree.query(np.deg2rad(np.c_[query_lat, query_lon]))\n",
    "        \n",
    "        distance = distance[0,0] * 6371000/1000  # multiply by Earth radius to get kilometers\n",
    "        index = index[0, 0]\n",
    "        nn_station.append(df_minus_row.station_id.iloc[index])\n",
    "        nn_dist.append(distance)\n",
    "            \n",
    "    df_copy = data_frame.copy()\n",
    "    df_copy['nn_dist'] = nn_dist\n",
    "    df_copy['nn_station'] = nn_station\n",
    "    return df_copy"
   ]
  },
  {
   "cell_type": "code",
   "execution_count": 50,
   "metadata": {},
   "outputs": [],
   "source": [
    "tmp = get_nearest_neighbor_distance(tmax_1980_na)"
   ]
  },
  {
   "cell_type": "code",
   "execution_count": 51,
   "metadata": {},
   "outputs": [
    {
     "data": {
      "text/html": [
       "<div>\n",
       "<style scoped>\n",
       "    .dataframe tbody tr th:only-of-type {\n",
       "        vertical-align: middle;\n",
       "    }\n",
       "\n",
       "    .dataframe tbody tr th {\n",
       "        vertical-align: top;\n",
       "    }\n",
       "\n",
       "    .dataframe thead th {\n",
       "        text-align: right;\n",
       "    }\n",
       "</style>\n",
       "<table border=\"1\" class=\"dataframe\">\n",
       "  <thead>\n",
       "    <tr style=\"text-align: right;\">\n",
       "      <th></th>\n",
       "      <th>index</th>\n",
       "      <th>station_id</th>\n",
       "      <th>latitude</th>\n",
       "      <th>longitude</th>\n",
       "      <th>element</th>\n",
       "      <th>first_year</th>\n",
       "      <th>last_year</th>\n",
       "      <th>years</th>\n",
       "      <th>elevation</th>\n",
       "      <th>state</th>\n",
       "      <th>...</th>\n",
       "      <th>hcn_crn_flag</th>\n",
       "      <th>wmo_id</th>\n",
       "      <th>state_name</th>\n",
       "      <th>country_code</th>\n",
       "      <th>country</th>\n",
       "      <th>continent_code</th>\n",
       "      <th>continent</th>\n",
       "      <th>type</th>\n",
       "      <th>nn_dist</th>\n",
       "      <th>nn_station</th>\n",
       "    </tr>\n",
       "  </thead>\n",
       "  <tbody>\n",
       "    <tr>\n",
       "      <th>0</th>\n",
       "      <td>62846</td>\n",
       "      <td>BB000078954</td>\n",
       "      <td>13.0670</td>\n",
       "      <td>-59.4830</td>\n",
       "      <td>PRCP</td>\n",
       "      <td>1973</td>\n",
       "      <td>2018</td>\n",
       "      <td>46</td>\n",
       "      <td>52.0</td>\n",
       "      <td>NaN</td>\n",
       "      <td>...</td>\n",
       "      <td>NaN</td>\n",
       "      <td>78954.0</td>\n",
       "      <td>NaN</td>\n",
       "      <td>BB</td>\n",
       "      <td>Barbados</td>\n",
       "      <td>NA</td>\n",
       "      <td>North America</td>\n",
       "      <td>0</td>\n",
       "      <td>235.901471</td>\n",
       "      <td>MBM00078925</td>\n",
       "    </tr>\n",
       "    <tr>\n",
       "      <th>1</th>\n",
       "      <td>62904</td>\n",
       "      <td>BDM00078016</td>\n",
       "      <td>32.3667</td>\n",
       "      <td>-64.6833</td>\n",
       "      <td>PRCP</td>\n",
       "      <td>1949</td>\n",
       "      <td>2019</td>\n",
       "      <td>71</td>\n",
       "      <td>6.1</td>\n",
       "      <td>NaN</td>\n",
       "      <td>...</td>\n",
       "      <td>NaN</td>\n",
       "      <td>78016.0</td>\n",
       "      <td>NaN</td>\n",
       "      <td>BD</td>\n",
       "      <td>Bermuda [United Kingdom]</td>\n",
       "      <td>NA</td>\n",
       "      <td>North America</td>\n",
       "      <td>M</td>\n",
       "      <td>1059.098441</td>\n",
       "      <td>USW00093729</td>\n",
       "    </tr>\n",
       "    <tr>\n",
       "      <th>2</th>\n",
       "      <td>62957</td>\n",
       "      <td>BF000078073</td>\n",
       "      <td>25.0500</td>\n",
       "      <td>-77.4670</td>\n",
       "      <td>PRCP</td>\n",
       "      <td>1973</td>\n",
       "      <td>2019</td>\n",
       "      <td>47</td>\n",
       "      <td>5.0</td>\n",
       "      <td>NaN</td>\n",
       "      <td>...</td>\n",
       "      <td>NaN</td>\n",
       "      <td>78073.0</td>\n",
       "      <td>NaN</td>\n",
       "      <td>BF</td>\n",
       "      <td>Bahamas, The</td>\n",
       "      <td>NA</td>\n",
       "      <td>North America</td>\n",
       "      <td>0</td>\n",
       "      <td>280.677978</td>\n",
       "      <td>USW00092811</td>\n",
       "    </tr>\n",
       "    <tr>\n",
       "      <th>3</th>\n",
       "      <td>63161</td>\n",
       "      <td>BHM00078583</td>\n",
       "      <td>17.5390</td>\n",
       "      <td>-88.3080</td>\n",
       "      <td>PRCP</td>\n",
       "      <td>1960</td>\n",
       "      <td>2019</td>\n",
       "      <td>60</td>\n",
       "      <td>4.6</td>\n",
       "      <td>NaN</td>\n",
       "      <td>...</td>\n",
       "      <td>NaN</td>\n",
       "      <td>78583.0</td>\n",
       "      <td>NaN</td>\n",
       "      <td>BH</td>\n",
       "      <td>Belize</td>\n",
       "      <td>NA</td>\n",
       "      <td>North America</td>\n",
       "      <td>M</td>\n",
       "      <td>83.597342</td>\n",
       "      <td>MXN00023018</td>\n",
       "    </tr>\n",
       "    <tr>\n",
       "      <th>4</th>\n",
       "      <td>70701</td>\n",
       "      <td>CA001010235</td>\n",
       "      <td>48.4000</td>\n",
       "      <td>-123.4833</td>\n",
       "      <td>PRCP</td>\n",
       "      <td>1971</td>\n",
       "      <td>1995</td>\n",
       "      <td>25</td>\n",
       "      <td>17.0</td>\n",
       "      <td>BC</td>\n",
       "      <td>...</td>\n",
       "      <td>NaN</td>\n",
       "      <td>NaN</td>\n",
       "      <td>BRITISH COLUMBIA</td>\n",
       "      <td>CA</td>\n",
       "      <td>Canada</td>\n",
       "      <td>NA</td>\n",
       "      <td>North America</td>\n",
       "      <td>0</td>\n",
       "      <td>4.131491</td>\n",
       "      <td>CA001015107</td>\n",
       "    </tr>\n",
       "  </tbody>\n",
       "</table>\n",
       "<p>5 rows × 22 columns</p>\n",
       "</div>"
      ],
      "text/plain": [
       "   index   station_id  latitude  longitude element  first_year  last_year  \\\n",
       "0  62846  BB000078954   13.0670   -59.4830    PRCP        1973       2018   \n",
       "1  62904  BDM00078016   32.3667   -64.6833    PRCP        1949       2019   \n",
       "2  62957  BF000078073   25.0500   -77.4670    PRCP        1973       2019   \n",
       "3  63161  BHM00078583   17.5390   -88.3080    PRCP        1960       2019   \n",
       "4  70701  CA001010235   48.4000  -123.4833    PRCP        1971       1995   \n",
       "\n",
       "   years  elevation state     ...      hcn_crn_flag   wmo_id  \\\n",
       "0     46       52.0   NaN     ...               NaN  78954.0   \n",
       "1     71        6.1   NaN     ...               NaN  78016.0   \n",
       "2     47        5.0   NaN     ...               NaN  78073.0   \n",
       "3     60        4.6   NaN     ...               NaN  78583.0   \n",
       "4     25       17.0    BC     ...               NaN      NaN   \n",
       "\n",
       "         state_name country_code                   country continent_code  \\\n",
       "0               NaN           BB                  Barbados             NA   \n",
       "1               NaN           BD  Bermuda [United Kingdom]             NA   \n",
       "2               NaN           BF              Bahamas, The             NA   \n",
       "3               NaN           BH                    Belize             NA   \n",
       "4  BRITISH COLUMBIA           CA                    Canada             NA   \n",
       "\n",
       "       continent type      nn_dist   nn_station  \n",
       "0  North America    0   235.901471  MBM00078925  \n",
       "1  North America    M  1059.098441  USW00093729  \n",
       "2  North America    0   280.677978  USW00092811  \n",
       "3  North America    M    83.597342  MXN00023018  \n",
       "4  North America    0     4.131491  CA001015107  \n",
       "\n",
       "[5 rows x 22 columns]"
      ]
     },
     "execution_count": 51,
     "metadata": {},
     "output_type": "execute_result"
    }
   ],
   "source": [
    "tmp.head()"
   ]
  },
  {
   "cell_type": "code",
   "execution_count": 52,
   "metadata": {},
   "outputs": [
    {
     "data": {
      "text/plain": [
       "count    16495.000000\n",
       "mean        16.761432\n",
       "std         23.125801\n",
       "min          0.000000\n",
       "25%          7.474683\n",
       "50%         13.264920\n",
       "75%         20.702248\n",
       "max       1059.098441\n",
       "Name: nn_dist, dtype: float64"
      ]
     },
     "execution_count": 52,
     "metadata": {},
     "output_type": "execute_result"
    }
   ],
   "source": [
    "tmp.nn_dist.describe()"
   ]
  },
  {
   "cell_type": "code",
   "execution_count": 54,
   "metadata": {},
   "outputs": [
    {
     "data": {
      "text/plain": [
       "<matplotlib.axes._subplots.AxesSubplot at 0x2be572872e8>"
      ]
     },
     "execution_count": 54,
     "metadata": {},
     "output_type": "execute_result"
    },
    {
     "data": {
      "image/png": "[encoded data removed]",
      "text/plain": [
       "<Figure size 432x288 with 1 Axes>"
      ]
     },
     "metadata": {
      "needs_background": "light"
     },
     "output_type": "display_data"
    }
   ],
   "source": [
    "tmp.nn_dist.plot(kind='hist')"
   ]
  },
  {
   "cell_type": "code",
   "execution_count": 55,
   "metadata": {},
   "outputs": [],
   "source": []
  },
  {
   "cell_type": "code",
   "execution_count": 73,
   "metadata": {},
   "outputs": [],
   "source": [
    "from geopy.distance import geodesic, great_circle"
   ]
  },
  {
   "cell_type": "code",
   "execution_count": 74,
   "metadata": {},
   "outputs": [
    {
     "data": {
      "text/plain": [
       "1"
      ]
     },
     "execution_count": 74,
     "metadata": {},
     "output_type": "execute_result"
    }
   ],
   "source": [
    "# What is the index of the largest nearest neighbor distance\n",
    "tmp.nn_dist.idxmax()"
   ]
  },
  {
   "cell_type": "code",
   "execution_count": 78,
   "metadata": {},
   "outputs": [
    {
     "name": "stdout",
     "output_type": "stream",
     "text": [
      "index                                    62904\n",
      "station_id                         BDM00078016\n",
      "latitude                               32.3667\n",
      "longitude                             -64.6833\n",
      "element                                   PRCP\n",
      "first_year                                1949\n",
      "last_year                                 2019\n",
      "years                                       71\n",
      "elevation                                  6.1\n",
      "state                                      NaN\n",
      "name              L F WADE INTL AP KINDLEY FLD\n",
      "gsn_flag                                   GSN\n",
      "hcn_crn_flag                               NaN\n",
      "wmo_id                                 78016.0\n",
      "state_name                                 NaN\n",
      "country_code                                BD\n",
      "country               Bermuda [United Kingdom]\n",
      "continent_code                              NA\n",
      "continent                        North America\n",
      "type                                         M\n",
      "nn_dist                                 1059.1\n",
      "nn_station                         USW00093729\n",
      "Name: 1, dtype: object\n",
      "32.3667 -64.6833\n"
     ]
    }
   ],
   "source": [
    "maxidx = tmp.iloc[1]\n",
    "print(maxidx)\n",
    "print(maxidx.latitude, maxidx.longitude)"
   ]
  },
  {
   "cell_type": "code",
   "execution_count": 79,
   "metadata": {},
   "outputs": [
    {
     "name": "stdout",
     "output_type": "stream",
     "text": [
      "35.2325 -75.6219\n"
     ]
    }
   ],
   "source": [
    "nn = tmp.query('station_id == \"USW00093729\"')\n",
    "print(nn.latitude.values[0], nn.longitude.values[0])"
   ]
  },
  {
   "cell_type": "code",
   "execution_count": 80,
   "metadata": {},
   "outputs": [
    {
     "name": "stdout",
     "output_type": "stream",
     "text": [
      "1059.0999368442672\n"
     ]
    }
   ],
   "source": [
    "print(great_circle((maxidx.latitude, maxidx.longitude), (nn.latitude.values[0], nn.longitude.values[0])).km)"
   ]
  },
  {
   "cell_type": "code",
   "execution_count": 81,
   "metadata": {},
   "outputs": [],
   "source": [
    "# Consider a more efficient version of nearest neighbor distance\n",
    "def get_nearest_neighbor_distance_2(data_frame):\n",
    "    \"\"\"\n",
    "    For each station, find the closest station using geodesic distance.  Returns a \n",
    "    copy of the df with added columns `nn_dist` and `nn_station`.\n",
    "    \"\"\"\n",
    "    #\n",
    "    nn_dist = []\n",
    "    nn_station = []\n",
    "    num_rows = data_frame.shape[0]\n",
    "    \n",
    "    ball_tree = BallTree(np.deg2rad(data_frame[['latitude', 'longitude']].values), metric='haversine')\n",
    "\n",
    "    for row in range(num_rows):\n",
    "        \n",
    "        # The query point is the point dropped from the tree\n",
    "        query_lat = [data_frame.latitude[row]]\n",
    "        query_lon = [data_frame.longitude[row]]\n",
    "        \n",
    "        # Find the first two nearest neighbors\n",
    "        # The first nearest neighbor will be the point itself\n",
    "        # The second nearest neighbor will be the next point distinct from the query point\n",
    "        distance, index = ball_tree.query(np.deg2rad(np.c_[query_lat, query_lon]), k=2)\n",
    "        \n",
    "        distance = distance[0, 1] * 6371000/1000  # multiply by Earth radius to get kilometers\n",
    "        index = index[0, 1]\n",
    "        nn_station.append(data_frame.station_id.iloc[index])\n",
    "        nn_dist.append(distance)\n",
    "            \n",
    "    df_copy = data_frame.copy()\n",
    "    df_copy['nn_dist'] = nn_dist\n",
    "    df_copy['nn_station'] = nn_station\n",
    "    return df_copy"
   ]
  },
  {
   "cell_type": "code",
   "execution_count": 82,
   "metadata": {},
   "outputs": [],
   "source": [
    "tmp2 = get_nearest_neighbor_distance_2(tmax_1980_na)"
   ]
  },
  {
   "cell_type": "code",
   "execution_count": 83,
   "metadata": {},
   "outputs": [
    {
     "data": {
      "text/html": [
       "<div>\n",
       "<style scoped>\n",
       "    .dataframe tbody tr th:only-of-type {\n",
       "        vertical-align: middle;\n",
       "    }\n",
       "\n",
       "    .dataframe tbody tr th {\n",
       "        vertical-align: top;\n",
       "    }\n",
       "\n",
       "    .dataframe thead th {\n",
       "        text-align: right;\n",
       "    }\n",
       "</style>\n",
       "<table border=\"1\" class=\"dataframe\">\n",
       "  <thead>\n",
       "    <tr style=\"text-align: right;\">\n",
       "      <th></th>\n",
       "      <th>index</th>\n",
       "      <th>station_id</th>\n",
       "      <th>latitude</th>\n",
       "      <th>longitude</th>\n",
       "      <th>element</th>\n",
       "      <th>first_year</th>\n",
       "      <th>last_year</th>\n",
       "      <th>years</th>\n",
       "      <th>elevation</th>\n",
       "      <th>state</th>\n",
       "      <th>...</th>\n",
       "      <th>hcn_crn_flag</th>\n",
       "      <th>wmo_id</th>\n",
       "      <th>state_name</th>\n",
       "      <th>country_code</th>\n",
       "      <th>country</th>\n",
       "      <th>continent_code</th>\n",
       "      <th>continent</th>\n",
       "      <th>type</th>\n",
       "      <th>nn_dist</th>\n",
       "      <th>nn_station</th>\n",
       "    </tr>\n",
       "  </thead>\n",
       "  <tbody>\n",
       "    <tr>\n",
       "      <th>0</th>\n",
       "      <td>62846</td>\n",
       "      <td>BB000078954</td>\n",
       "      <td>13.0670</td>\n",
       "      <td>-59.4830</td>\n",
       "      <td>PRCP</td>\n",
       "      <td>1973</td>\n",
       "      <td>2018</td>\n",
       "      <td>46</td>\n",
       "      <td>52.0</td>\n",
       "      <td>NaN</td>\n",
       "      <td>...</td>\n",
       "      <td>NaN</td>\n",
       "      <td>78954.0</td>\n",
       "      <td>NaN</td>\n",
       "      <td>BB</td>\n",
       "      <td>Barbados</td>\n",
       "      <td>NA</td>\n",
       "      <td>North America</td>\n",
       "      <td>0</td>\n",
       "      <td>235.901471</td>\n",
       "      <td>MBM00078925</td>\n",
       "    </tr>\n",
       "    <tr>\n",
       "      <th>1</th>\n",
       "      <td>62904</td>\n",
       "      <td>BDM00078016</td>\n",
       "      <td>32.3667</td>\n",
       "      <td>-64.6833</td>\n",
       "      <td>PRCP</td>\n",
       "      <td>1949</td>\n",
       "      <td>2019</td>\n",
       "      <td>71</td>\n",
       "      <td>6.1</td>\n",
       "      <td>NaN</td>\n",
       "      <td>...</td>\n",
       "      <td>NaN</td>\n",
       "      <td>78016.0</td>\n",
       "      <td>NaN</td>\n",
       "      <td>BD</td>\n",
       "      <td>Bermuda [United Kingdom]</td>\n",
       "      <td>NA</td>\n",
       "      <td>North America</td>\n",
       "      <td>M</td>\n",
       "      <td>1059.098441</td>\n",
       "      <td>USW00093729</td>\n",
       "    </tr>\n",
       "    <tr>\n",
       "      <th>2</th>\n",
       "      <td>62957</td>\n",
       "      <td>BF000078073</td>\n",
       "      <td>25.0500</td>\n",
       "      <td>-77.4670</td>\n",
       "      <td>PRCP</td>\n",
       "      <td>1973</td>\n",
       "      <td>2019</td>\n",
       "      <td>47</td>\n",
       "      <td>5.0</td>\n",
       "      <td>NaN</td>\n",
       "      <td>...</td>\n",
       "      <td>NaN</td>\n",
       "      <td>78073.0</td>\n",
       "      <td>NaN</td>\n",
       "      <td>BF</td>\n",
       "      <td>Bahamas, The</td>\n",
       "      <td>NA</td>\n",
       "      <td>North America</td>\n",
       "      <td>0</td>\n",
       "      <td>280.677978</td>\n",
       "      <td>USW00092811</td>\n",
       "    </tr>\n",
       "    <tr>\n",
       "      <th>3</th>\n",
       "      <td>63161</td>\n",
       "      <td>BHM00078583</td>\n",
       "      <td>17.5390</td>\n",
       "      <td>-88.3080</td>\n",
       "      <td>PRCP</td>\n",
       "      <td>1960</td>\n",
       "      <td>2019</td>\n",
       "      <td>60</td>\n",
       "      <td>4.6</td>\n",
       "      <td>NaN</td>\n",
       "      <td>...</td>\n",
       "      <td>NaN</td>\n",
       "      <td>78583.0</td>\n",
       "      <td>NaN</td>\n",
       "      <td>BH</td>\n",
       "      <td>Belize</td>\n",
       "      <td>NA</td>\n",
       "      <td>North America</td>\n",
       "      <td>M</td>\n",
       "      <td>83.597342</td>\n",
       "      <td>MXN00023018</td>\n",
       "    </tr>\n",
       "    <tr>\n",
       "      <th>4</th>\n",
       "      <td>70701</td>\n",
       "      <td>CA001010235</td>\n",
       "      <td>48.4000</td>\n",
       "      <td>-123.4833</td>\n",
       "      <td>PRCP</td>\n",
       "      <td>1971</td>\n",
       "      <td>1995</td>\n",
       "      <td>25</td>\n",
       "      <td>17.0</td>\n",
       "      <td>BC</td>\n",
       "      <td>...</td>\n",
       "      <td>NaN</td>\n",
       "      <td>NaN</td>\n",
       "      <td>BRITISH COLUMBIA</td>\n",
       "      <td>CA</td>\n",
       "      <td>Canada</td>\n",
       "      <td>NA</td>\n",
       "      <td>North America</td>\n",
       "      <td>0</td>\n",
       "      <td>4.131491</td>\n",
       "      <td>CA001015107</td>\n",
       "    </tr>\n",
       "  </tbody>\n",
       "</table>\n",
       "<p>5 rows × 22 columns</p>\n",
       "</div>"
      ],
      "text/plain": [
       "   index   station_id  latitude  longitude element  first_year  last_year  \\\n",
       "0  62846  BB000078954   13.0670   -59.4830    PRCP        1973       2018   \n",
       "1  62904  BDM00078016   32.3667   -64.6833    PRCP        1949       2019   \n",
       "2  62957  BF000078073   25.0500   -77.4670    PRCP        1973       2019   \n",
       "3  63161  BHM00078583   17.5390   -88.3080    PRCP        1960       2019   \n",
       "4  70701  CA001010235   48.4000  -123.4833    PRCP        1971       1995   \n",
       "\n",
       "   years  elevation state     ...      hcn_crn_flag   wmo_id  \\\n",
       "0     46       52.0   NaN     ...               NaN  78954.0   \n",
       "1     71        6.1   NaN     ...               NaN  78016.0   \n",
       "2     47        5.0   NaN     ...               NaN  78073.0   \n",
       "3     60        4.6   NaN     ...               NaN  78583.0   \n",
       "4     25       17.0    BC     ...               NaN      NaN   \n",
       "\n",
       "         state_name country_code                   country continent_code  \\\n",
       "0               NaN           BB                  Barbados             NA   \n",
       "1               NaN           BD  Bermuda [United Kingdom]             NA   \n",
       "2               NaN           BF              Bahamas, The             NA   \n",
       "3               NaN           BH                    Belize             NA   \n",
       "4  BRITISH COLUMBIA           CA                    Canada             NA   \n",
       "\n",
       "       continent type      nn_dist   nn_station  \n",
       "0  North America    0   235.901471  MBM00078925  \n",
       "1  North America    M  1059.098441  USW00093729  \n",
       "2  North America    0   280.677978  USW00092811  \n",
       "3  North America    M    83.597342  MXN00023018  \n",
       "4  North America    0     4.131491  CA001015107  \n",
       "\n",
       "[5 rows x 22 columns]"
      ]
     },
     "execution_count": 83,
     "metadata": {},
     "output_type": "execute_result"
    }
   ],
   "source": [
    "tmp2.head()"
   ]
  },
  {
   "cell_type": "code",
   "execution_count": 84,
   "metadata": {},
   "outputs": [
    {
     "data": {
      "text/plain": [
       "False"
      ]
     },
     "execution_count": 84,
     "metadata": {},
     "output_type": "execute_result"
    }
   ],
   "source": [
    "# Are the methods returning the same results?\n",
    "tmp.equals(tmp2)"
   ]
  },
  {
   "cell_type": "code",
   "execution_count": 89,
   "metadata": {},
   "outputs": [
    {
     "data": {
      "text/plain": [
       "(array([], dtype=int64),)"
      ]
     },
     "execution_count": 89,
     "metadata": {},
     "output_type": "execute_result"
    }
   ],
   "source": [
    "# They are returning the same nearest neighbor distances...\n",
    "np.where(tmp.nn_dist != tmp2.nn_dist)"
   ]
  },
  {
   "cell_type": "code",
   "execution_count": 90,
   "metadata": {},
   "outputs": [
    {
     "data": {
      "text/plain": [
       "(array([   46,    59,   106,   111,   130,   272,   275,   277,   293,\n",
       "          330,   331,   339,   358,   364,   368,   371,   376,   379,\n",
       "          381,   431,   432,   468,   492,   499,   583,   649,   651,\n",
       "          655,   665,   703,   710,   716,   719,   742,  1000,  1002,\n",
       "         1019,  1051,  1094,  1109,  1111,  1161,  1163,  1634,  1639,\n",
       "         1641,  1720,  1721,  1725,  1729,  1902,  2034,  2035,  2039,\n",
       "         2171,  2261,  2268,  2314,  2543,  2570,  2585,  2591,  2760,\n",
       "         2788,  2842,  2931,  2942,  3003,  3006,  3016,  3024,  3045,\n",
       "         3178,  3208,  3330,  3350,  3359,  3382,  3434,  3549,  3561,\n",
       "         3573,  3608,  3628,  3632,  3663,  3697,  3702,  3737,  3751,\n",
       "         3769,  3781,  3790,  3795,  3796,  3808,  3811,  3827,  3835,\n",
       "         3848,  3850,  3896,  3900,  3953,  3964,  3981,  4041,  4048,\n",
       "         4094,  4105,  4149,  4176,  4205,  4250,  4295,  4311,  4372,\n",
       "         4394,  4422,  4570,  4618,  4626,  4639,  4682,  4726,  4738,\n",
       "         4741,  4771,  4814,  4853,  4880,  4894,  4911,  4940,  4944,\n",
       "         5016,  5089,  5103,  5109,  5118,  5163,  5237,  5305,  5317,\n",
       "         5331,  5371,  5462,  5501,  5535,  5555,  5709,  5795,  5807,\n",
       "         5809,  5814,  5827,  5840,  5898,  5903,  5986,  5999,  6018,\n",
       "         6093,  6096,  6101,  6107,  6110,  6116,  6127,  6139,  6141,\n",
       "         6312,  6420,  6449,  6487,  6517,  6544,  6597,  6609,  6633,\n",
       "         6649,  6650,  6698,  6722,  6723,  7888, 11430, 13352, 14386,\n",
       "        14482, 15829], dtype=int64),)"
      ]
     },
     "execution_count": 90,
     "metadata": {},
     "output_type": "execute_result"
    }
   ],
   "source": [
    "# But they are identifying different stations as the nearest neighbors in some cases\n",
    "np.where(tmp.nn_station != tmp2.nn_station)"
   ]
  },
  {
   "cell_type": "code",
   "execution_count": 91,
   "metadata": {},
   "outputs": [
    {
     "data": {
      "text/plain": [
       "index                            71256\n",
       "station_id                 CA001018614\n",
       "latitude                       48.4667\n",
       "longitude                       -123.3\n",
       "element                           PRCP\n",
       "first_year                        1959\n",
       "last_year                         1983\n",
       "years                               25\n",
       "elevation                           43\n",
       "state                               BC\n",
       "name              VICTORIA GORDON HEAD\n",
       "gsn_flag                           NaN\n",
       "hcn_crn_flag                       NaN\n",
       "wmo_id                             NaN\n",
       "state_name            BRITISH COLUMBIA\n",
       "country_code                        CA\n",
       "country                         Canada\n",
       "continent_code                      NA\n",
       "continent                North America\n",
       "type                                 0\n",
       "nn_dist                        2.45515\n",
       "nn_station                 CA001018FF6\n",
       "Name: 46, dtype: object"
      ]
     },
     "execution_count": 91,
     "metadata": {},
     "output_type": "execute_result"
    }
   ],
   "source": [
    "# Let's look at row 46\n",
    "tmp.iloc[46]"
   ]
  },
  {
   "cell_type": "code",
   "execution_count": 92,
   "metadata": {},
   "outputs": [
    {
     "data": {
      "text/plain": [
       "index                            71256\n",
       "station_id                 CA001018614\n",
       "latitude                       48.4667\n",
       "longitude                       -123.3\n",
       "element                           PRCP\n",
       "first_year                        1959\n",
       "last_year                         1983\n",
       "years                               25\n",
       "elevation                           43\n",
       "state                               BC\n",
       "name              VICTORIA GORDON HEAD\n",
       "gsn_flag                           NaN\n",
       "hcn_crn_flag                       NaN\n",
       "wmo_id                             NaN\n",
       "state_name            BRITISH COLUMBIA\n",
       "country_code                        CA\n",
       "country                         Canada\n",
       "continent_code                      NA\n",
       "continent                North America\n",
       "type                                 0\n",
       "nn_dist                        2.45515\n",
       "nn_station                 CA00101QF57\n",
       "Name: 46, dtype: object"
      ]
     },
     "execution_count": 92,
     "metadata": {},
     "output_type": "execute_result"
    }
   ],
   "source": [
    "# We see that the nearest neighbor is different but the distance is the same\n",
    "tmp2.iloc[46]"
   ]
  },
  {
   "cell_type": "code",
   "execution_count": 95,
   "metadata": {},
   "outputs": [
    {
     "name": "stdout",
     "output_type": "stream",
     "text": [
      "2.4551584077400075\n",
      "2.4551584077400075\n"
     ]
    }
   ],
   "source": [
    "# How far are the two different nearest neighbors from the target point?\n",
    "pt1 = tmp.iloc[46]\n",
    "pt2 = tmp.query('station_id == \"CA001018FF6\"') # nearest neighbor found by method 1 - new ball tree each time - 1 nn\n",
    "pt3 = tmp.query('station_id == \"CA00101QF57\"') # nearest neighbor found by method 2 - 1 ball tree - find 2 nn\n",
    "\n",
    "print(great_circle((pt1.latitude, pt1.longitude), (pt2.latitude.values[0], pt2.longitude.values[0])).km)\n",
    "print(great_circle((pt1.latitude, pt1.longitude), (pt3.latitude.values[0], pt3.longitude.values[0])).km)"
   ]
  },
  {
   "cell_type": "code",
   "execution_count": 96,
   "metadata": {},
   "outputs": [
    {
     "name": "stdout",
     "output_type": "stream",
     "text": [
      "0.0\n"
     ]
    }
   ],
   "source": [
    "# How close are the two nearest neighbors to each other?\n",
    "print(great_circle((pt2.latitude.values[0], pt2.longitude.values[0]), (pt3.latitude.values[0], pt3.longitude.values[0])).km)"
   ]
  },
  {
   "cell_type": "code",
   "execution_count": 97,
   "metadata": {},
   "outputs": [
    {
     "data": {
      "text/html": [
       "<div>\n",
       "<style scoped>\n",
       "    .dataframe tbody tr th:only-of-type {\n",
       "        vertical-align: middle;\n",
       "    }\n",
       "\n",
       "    .dataframe tbody tr th {\n",
       "        vertical-align: top;\n",
       "    }\n",
       "\n",
       "    .dataframe thead th {\n",
       "        text-align: right;\n",
       "    }\n",
       "</style>\n",
       "<table border=\"1\" class=\"dataframe\">\n",
       "  <thead>\n",
       "    <tr style=\"text-align: right;\">\n",
       "      <th></th>\n",
       "      <th>index</th>\n",
       "      <th>station_id</th>\n",
       "      <th>latitude</th>\n",
       "      <th>longitude</th>\n",
       "      <th>element</th>\n",
       "      <th>first_year</th>\n",
       "      <th>last_year</th>\n",
       "      <th>years</th>\n",
       "      <th>elevation</th>\n",
       "      <th>state</th>\n",
       "      <th>...</th>\n",
       "      <th>hcn_crn_flag</th>\n",
       "      <th>wmo_id</th>\n",
       "      <th>state_name</th>\n",
       "      <th>country_code</th>\n",
       "      <th>country</th>\n",
       "      <th>continent_code</th>\n",
       "      <th>continent</th>\n",
       "      <th>type</th>\n",
       "      <th>nn_dist</th>\n",
       "      <th>nn_station</th>\n",
       "    </tr>\n",
       "  </thead>\n",
       "  <tbody>\n",
       "    <tr>\n",
       "      <th>53</th>\n",
       "      <td>71330</td>\n",
       "      <td>CA001018FF6</td>\n",
       "      <td>48.4667</td>\n",
       "      <td>-123.3333</td>\n",
       "      <td>PRCP</td>\n",
       "      <td>1974</td>\n",
       "      <td>1988</td>\n",
       "      <td>15</td>\n",
       "      <td>68.0</td>\n",
       "      <td>BC</td>\n",
       "      <td>...</td>\n",
       "      <td>NaN</td>\n",
       "      <td>NaN</td>\n",
       "      <td>BRITISH COLUMBIA</td>\n",
       "      <td>CA</td>\n",
       "      <td>Canada</td>\n",
       "      <td>NA</td>\n",
       "      <td>North America</td>\n",
       "      <td>0</td>\n",
       "      <td>0.0</td>\n",
       "      <td>CA00101QF57</td>\n",
       "    </tr>\n",
       "  </tbody>\n",
       "</table>\n",
       "<p>1 rows × 22 columns</p>\n",
       "</div>"
      ],
      "text/plain": [
       "    index   station_id  latitude  longitude element  first_year  last_year  \\\n",
       "53  71330  CA001018FF6   48.4667  -123.3333    PRCP        1974       1988   \n",
       "\n",
       "    years  elevation state     ...      hcn_crn_flag wmo_id        state_name  \\\n",
       "53     15       68.0    BC     ...               NaN    NaN  BRITISH COLUMBIA   \n",
       "\n",
       "   country_code country continent_code      continent type nn_dist  \\\n",
       "53           CA  Canada             NA  North America    0     0.0   \n",
       "\n",
       "     nn_station  \n",
       "53  CA00101QF57  \n",
       "\n",
       "[1 rows x 22 columns]"
      ]
     },
     "execution_count": 97,
     "metadata": {},
     "output_type": "execute_result"
    }
   ],
   "source": [
    "pt2"
   ]
  },
  {
   "cell_type": "code",
   "execution_count": 99,
   "metadata": {},
   "outputs": [
    {
     "data": {
      "text/html": [
       "<div>\n",
       "<style scoped>\n",
       "    .dataframe tbody tr th:only-of-type {\n",
       "        vertical-align: middle;\n",
       "    }\n",
       "\n",
       "    .dataframe tbody tr th {\n",
       "        vertical-align: top;\n",
       "    }\n",
       "\n",
       "    .dataframe thead th {\n",
       "        text-align: right;\n",
       "    }\n",
       "</style>\n",
       "<table border=\"1\" class=\"dataframe\">\n",
       "  <thead>\n",
       "    <tr style=\"text-align: right;\">\n",
       "      <th></th>\n",
       "      <th>index</th>\n",
       "      <th>station_id</th>\n",
       "      <th>latitude</th>\n",
       "      <th>longitude</th>\n",
       "      <th>element</th>\n",
       "      <th>first_year</th>\n",
       "      <th>last_year</th>\n",
       "      <th>years</th>\n",
       "      <th>elevation</th>\n",
       "      <th>state</th>\n",
       "      <th>...</th>\n",
       "      <th>hcn_crn_flag</th>\n",
       "      <th>wmo_id</th>\n",
       "      <th>state_name</th>\n",
       "      <th>country_code</th>\n",
       "      <th>country</th>\n",
       "      <th>continent_code</th>\n",
       "      <th>continent</th>\n",
       "      <th>type</th>\n",
       "      <th>nn_dist</th>\n",
       "      <th>nn_station</th>\n",
       "    </tr>\n",
       "  </thead>\n",
       "  <tbody>\n",
       "    <tr>\n",
       "      <th>59</th>\n",
       "      <td>71397</td>\n",
       "      <td>CA00101QF57</td>\n",
       "      <td>48.4667</td>\n",
       "      <td>-123.3333</td>\n",
       "      <td>PRCP</td>\n",
       "      <td>1964</td>\n",
       "      <td>1991</td>\n",
       "      <td>28</td>\n",
       "      <td>49.0</td>\n",
       "      <td>BC</td>\n",
       "      <td>...</td>\n",
       "      <td>NaN</td>\n",
       "      <td>NaN</td>\n",
       "      <td>BRITISH COLUMBIA</td>\n",
       "      <td>CA</td>\n",
       "      <td>Canada</td>\n",
       "      <td>NA</td>\n",
       "      <td>North America</td>\n",
       "      <td>0</td>\n",
       "      <td>0.0</td>\n",
       "      <td>CA001018FF6</td>\n",
       "    </tr>\n",
       "  </tbody>\n",
       "</table>\n",
       "<p>1 rows × 22 columns</p>\n",
       "</div>"
      ],
      "text/plain": [
       "    index   station_id  latitude  longitude element  first_year  last_year  \\\n",
       "59  71397  CA00101QF57   48.4667  -123.3333    PRCP        1964       1991   \n",
       "\n",
       "    years  elevation state     ...      hcn_crn_flag wmo_id        state_name  \\\n",
       "59     28       49.0    BC     ...               NaN    NaN  BRITISH COLUMBIA   \n",
       "\n",
       "   country_code country continent_code      continent type nn_dist  \\\n",
       "59           CA  Canada             NA  North America    0     0.0   \n",
       "\n",
       "     nn_station  \n",
       "59  CA001018FF6  \n",
       "\n",
       "[1 rows x 22 columns]"
      ]
     },
     "execution_count": 99,
     "metadata": {},
     "output_type": "execute_result"
    }
   ],
   "source": [
    "pt3"
   ]
  },
  {
   "cell_type": "code",
   "execution_count": 101,
   "metadata": {},
   "outputs": [],
   "source": [
    "# Within the precision of latitude, longitude given, there are stations with the same coordinates."
   ]
  },
  {
   "cell_type": "code",
   "execution_count": 105,
   "metadata": {},
   "outputs": [
    {
     "data": {
      "text/plain": [
       "{'count': 16495.0,\n",
       " 'mean': 16.761432301481996,\n",
       " 'std': 23.125801164969648,\n",
       " 'min': 0.0,\n",
       " '25%': 7.4746831961736095,\n",
       " '50%': 13.26492038562102,\n",
       " '75%': 20.702248377786553,\n",
       " 'max': 1059.0984407077165}"
      ]
     },
     "execution_count": 105,
     "metadata": {},
     "output_type": "execute_result"
    }
   ],
   "source": [
    "tmp.nn_dist.describe().to_dict()"
   ]
  },
  {
   "cell_type": "code",
   "execution_count": 123,
   "metadata": {},
   "outputs": [],
   "source": [
    "def compute_nn_dist_summaries(data_frame, element, continent, min_year, max_year=2019):\n",
    "    results = []\n",
    "    \n",
    "    for year in range(min_year, max_year+1):\n",
    "        # get the data frame:\n",
    "        df = query_by_year_and_element(data_frame, year, element, continent)\n",
    "        nn_df = get_nearest_neighbor_distance_2(df)\n",
    "        stats = nn_df.nn_dist.describe().to_dict()\n",
    "        stats['year'] = year\n",
    "        results.append(stats)\n",
    "        \n",
    "    return pd.DataFrame(results)"
   ]
  },
  {
   "cell_type": "code",
   "execution_count": 124,
   "metadata": {},
   "outputs": [
    {
     "data": {
      "text/html": [
       "<div>\n",
       "<style scoped>\n",
       "    .dataframe tbody tr th:only-of-type {\n",
       "        vertical-align: middle;\n",
       "    }\n",
       "\n",
       "    .dataframe tbody tr th {\n",
       "        vertical-align: top;\n",
       "    }\n",
       "\n",
       "    .dataframe thead th {\n",
       "        text-align: right;\n",
       "    }\n",
       "</style>\n",
       "<table border=\"1\" class=\"dataframe\">\n",
       "  <thead>\n",
       "    <tr style=\"text-align: right;\">\n",
       "      <th></th>\n",
       "      <th>25%</th>\n",
       "      <th>50%</th>\n",
       "      <th>75%</th>\n",
       "      <th>count</th>\n",
       "      <th>max</th>\n",
       "      <th>mean</th>\n",
       "      <th>min</th>\n",
       "      <th>std</th>\n",
       "      <th>year</th>\n",
       "    </tr>\n",
       "  </thead>\n",
       "  <tbody>\n",
       "    <tr>\n",
       "      <th>0</th>\n",
       "      <td>7.474683</td>\n",
       "      <td>13.26492</td>\n",
       "      <td>20.702248</td>\n",
       "      <td>16495.0</td>\n",
       "      <td>1059.098441</td>\n",
       "      <td>16.761432</td>\n",
       "      <td>0.0</td>\n",
       "      <td>23.125801</td>\n",
       "      <td>1980</td>\n",
       "    </tr>\n",
       "  </tbody>\n",
       "</table>\n",
       "</div>"
      ],
      "text/plain": [
       "        25%       50%        75%    count          max       mean  min  \\\n",
       "0  7.474683  13.26492  20.702248  16495.0  1059.098441  16.761432  0.0   \n",
       "\n",
       "         std  year  \n",
       "0  23.125801  1980  "
      ]
     },
     "execution_count": 124,
     "metadata": {},
     "output_type": "execute_result"
    }
   ],
   "source": [
    "compute_nn_dist_summaries(df, 'PRCP', 'North America', 1980, 1980) # should match the output above..."
   ]
  },
  {
   "cell_type": "code",
   "execution_count": 111,
   "metadata": {},
   "outputs": [
    {
     "name": "stdout",
     "output_type": "stream",
     "text": [
      "9.35 s ± 102 ms per loop (mean ± std. dev. of 7 runs, 1 loop each)\n"
     ]
    }
   ],
   "source": [
    "%timeit -n1 compute_nn_dist_summaries(df, 'PRCP', 'North America', 1980, 1980)"
   ]
  },
  {
   "cell_type": "code",
   "execution_count": 112,
   "metadata": {},
   "outputs": [
    {
     "data": {
      "text/plain": [
       "1836"
      ]
     },
     "execution_count": 112,
     "metadata": {},
     "output_type": "execute_result"
    }
   ],
   "source": [
    "min(df[(df.continent == 'North America') & (df.element == 'PRCP')].first_year)"
   ]
  },
  {
   "cell_type": "code",
   "execution_count": 115,
   "metadata": {},
   "outputs": [],
   "source": [
    "def find_first_year(data_frame, element, continent):\n",
    "    return min(df[(df.continent == continent) & (df.element == element)].first_year)"
   ]
  },
  {
   "cell_type": "code",
   "execution_count": 116,
   "metadata": {},
   "outputs": [
    {
     "data": {
      "text/plain": [
       "1901"
      ]
     },
     "execution_count": 116,
     "metadata": {},
     "output_type": "execute_result"
    }
   ],
   "source": [
    "find_first_year(df, 'PRCP', 'South America')"
   ]
  },
  {
   "cell_type": "code",
   "execution_count": 118,
   "metadata": {},
   "outputs": [],
   "source": [
    "na_prcp_nn = compute_nn_dist_summaries(df, 'PRCP', 'North America', 1860, 2019)"
   ]
  },
  {
   "cell_type": "code",
   "execution_count": 120,
   "metadata": {},
   "outputs": [],
   "source": [
    "na_prcp_nn['year'] = [x for x in range(1860, 2020)]"
   ]
  },
  {
   "cell_type": "code",
   "execution_count": 121,
   "metadata": {},
   "outputs": [
    {
     "data": {
      "text/html": [
       "<div>\n",
       "<style scoped>\n",
       "    .dataframe tbody tr th:only-of-type {\n",
       "        vertical-align: middle;\n",
       "    }\n",
       "\n",
       "    .dataframe tbody tr th {\n",
       "        vertical-align: top;\n",
       "    }\n",
       "\n",
       "    .dataframe thead th {\n",
       "        text-align: right;\n",
       "    }\n",
       "</style>\n",
       "<table border=\"1\" class=\"dataframe\">\n",
       "  <thead>\n",
       "    <tr style=\"text-align: right;\">\n",
       "      <th></th>\n",
       "      <th>25%</th>\n",
       "      <th>50%</th>\n",
       "      <th>75%</th>\n",
       "      <th>count</th>\n",
       "      <th>max</th>\n",
       "      <th>mean</th>\n",
       "      <th>min</th>\n",
       "      <th>std</th>\n",
       "      <th>year</th>\n",
       "    </tr>\n",
       "  </thead>\n",
       "  <tbody>\n",
       "    <tr>\n",
       "      <th>0</th>\n",
       "      <td>151.209602</td>\n",
       "      <td>314.535351</td>\n",
       "      <td>620.474620</td>\n",
       "      <td>19.0</td>\n",
       "      <td>798.457964</td>\n",
       "      <td>363.058299</td>\n",
       "      <td>0.212859</td>\n",
       "      <td>289.421344</td>\n",
       "      <td>1860</td>\n",
       "    </tr>\n",
       "    <tr>\n",
       "      <th>1</th>\n",
       "      <td>151.209602</td>\n",
       "      <td>314.535351</td>\n",
       "      <td>620.474620</td>\n",
       "      <td>19.0</td>\n",
       "      <td>798.457964</td>\n",
       "      <td>363.058299</td>\n",
       "      <td>0.212859</td>\n",
       "      <td>289.421344</td>\n",
       "      <td>1861</td>\n",
       "    </tr>\n",
       "    <tr>\n",
       "      <th>2</th>\n",
       "      <td>151.209602</td>\n",
       "      <td>314.535351</td>\n",
       "      <td>620.474620</td>\n",
       "      <td>19.0</td>\n",
       "      <td>798.457964</td>\n",
       "      <td>363.058299</td>\n",
       "      <td>0.212859</td>\n",
       "      <td>289.421344</td>\n",
       "      <td>1862</td>\n",
       "    </tr>\n",
       "    <tr>\n",
       "      <th>3</th>\n",
       "      <td>8.571804</td>\n",
       "      <td>252.930384</td>\n",
       "      <td>518.261723</td>\n",
       "      <td>20.0</td>\n",
       "      <td>798.457964</td>\n",
       "      <td>308.004351</td>\n",
       "      <td>0.212859</td>\n",
       "      <td>285.133612</td>\n",
       "      <td>1863</td>\n",
       "    </tr>\n",
       "    <tr>\n",
       "      <th>4</th>\n",
       "      <td>8.571804</td>\n",
       "      <td>252.930384</td>\n",
       "      <td>518.261723</td>\n",
       "      <td>20.0</td>\n",
       "      <td>798.457964</td>\n",
       "      <td>308.004351</td>\n",
       "      <td>0.212859</td>\n",
       "      <td>285.133612</td>\n",
       "      <td>1864</td>\n",
       "    </tr>\n",
       "  </tbody>\n",
       "</table>\n",
       "</div>"
      ],
      "text/plain": [
       "          25%         50%         75%  count         max        mean  \\\n",
       "0  151.209602  314.535351  620.474620   19.0  798.457964  363.058299   \n",
       "1  151.209602  314.535351  620.474620   19.0  798.457964  363.058299   \n",
       "2  151.209602  314.535351  620.474620   19.0  798.457964  363.058299   \n",
       "3    8.571804  252.930384  518.261723   20.0  798.457964  308.004351   \n",
       "4    8.571804  252.930384  518.261723   20.0  798.457964  308.004351   \n",
       "\n",
       "        min         std  year  \n",
       "0  0.212859  289.421344  1860  \n",
       "1  0.212859  289.421344  1861  \n",
       "2  0.212859  289.421344  1862  \n",
       "3  0.212859  285.133612  1863  \n",
       "4  0.212859  285.133612  1864  "
      ]
     },
     "execution_count": 121,
     "metadata": {},
     "output_type": "execute_result"
    }
   ],
   "source": [
    "na_prcp_nn.head()"
   ]
  },
  {
   "cell_type": "code",
   "execution_count": 122,
   "metadata": {},
   "outputs": [
    {
     "data": {
      "text/plain": [
       "<matplotlib.axes._subplots.AxesSubplot at 0x2be63e6bac8>"
      ]
     },
     "execution_count": 122,
     "metadata": {},
     "output_type": "execute_result"
    },
    {
     "data": {
      "image/png": "[encoded data removed]",
      "text/plain": [
       "<Figure size 432x288 with 1 Axes>"
      ]
     },
     "metadata": {
      "needs_background": "light"
     },
     "output_type": "display_data"
    }
   ],
   "source": [
    "na_prcp_nn.plot(x='year', y='50%')"
   ]
  },
  {
   "cell_type": "code",
   "execution_count": 125,
   "metadata": {},
   "outputs": [],
   "source": [
    "eu_prcp_nn = compute_nn_dist_summaries(df, 'PRCP', 'Europe', 1860, 2019)"
   ]
  },
  {
   "cell_type": "code",
   "execution_count": 126,
   "metadata": {},
   "outputs": [
    {
     "data": {
      "text/plain": [
       "<matplotlib.axes._subplots.AxesSubplot at 0x2be63e6b2e8>"
      ]
     },
     "execution_count": 126,
     "metadata": {},
     "output_type": "execute_result"
    },
    {
     "data": {
      "image/png": "[encoded data removed]",
      "text/plain": [
       "<Figure size 432x288 with 1 Axes>"
      ]
     },
     "metadata": {
      "needs_background": "light"
     },
     "output_type": "display_data"
    }
   ],
   "source": [
    "eu_prcp_nn.plot(x='year', y='50%')"
   ]
  },
  {
   "cell_type": "code",
   "execution_count": 127,
   "metadata": {},
   "outputs": [],
   "source": [
    "af_prcp_nn = compute_nn_dist_summaries(df, 'PRCP', 'Africa', 1860, 2019)"
   ]
  },
  {
   "cell_type": "code",
   "execution_count": 128,
   "metadata": {},
   "outputs": [
    {
     "data": {
      "text/plain": [
       "<matplotlib.axes._subplots.AxesSubplot at 0x2be6338a358>"
      ]
     },
     "execution_count": 128,
     "metadata": {},
     "output_type": "execute_result"
    },
    {
     "data": {
      "image/png": "[encoded data removed]",
      "text/plain": [
       "<Figure size 432x288 with 1 Axes>"
      ]
     },
     "metadata": {
      "needs_background": "light"
     },
     "output_type": "display_data"
    }
   ],
   "source": [
    "af_prcp_nn.plot(x='year', y='50%')"
   ]
  },
  {
   "cell_type": "code",
   "execution_count": 130,
   "metadata": {},
   "outputs": [
    {
     "data": {
      "text/plain": [
       "1881"
      ]
     },
     "execution_count": 130,
     "metadata": {},
     "output_type": "execute_result"
    }
   ],
   "source": [
    "find_first_year(df, 'PRCP', 'Asia')"
   ]
  },
  {
   "cell_type": "code",
   "execution_count": 131,
   "metadata": {},
   "outputs": [],
   "source": [
    "as_prcp_nn = compute_nn_dist_summaries(df, 'PRCP', 'Asia', 1881, 2019)"
   ]
  },
  {
   "cell_type": "code",
   "execution_count": 132,
   "metadata": {},
   "outputs": [
    {
     "data": {
      "text/plain": [
       "<matplotlib.axes._subplots.AxesSubplot at 0x2be63be9710>"
      ]
     },
     "execution_count": 132,
     "metadata": {},
     "output_type": "execute_result"
    },
    {
     "data": {
      "image/png": "[encoded data removed]",
      "text/plain": [
       "<Figure size 432x288 with 1 Axes>"
      ]
     },
     "metadata": {
      "needs_background": "light"
     },
     "output_type": "display_data"
    }
   ],
   "source": [
    "as_prcp_nn.plot(x='year', y='50%')"
   ]
  },
  {
   "cell_type": "code",
   "execution_count": 133,
   "metadata": {},
   "outputs": [],
   "source": [
    "sa_prcp_nn = compute_nn_dist_summaries(df, 'PRCP', 'South America', 1901, 2019)"
   ]
  },
  {
   "cell_type": "code",
   "execution_count": 134,
   "metadata": {},
   "outputs": [
    {
     "data": {
      "text/plain": [
       "<matplotlib.axes._subplots.AxesSubplot at 0x2be63b84828>"
      ]
     },
     "execution_count": 134,
     "metadata": {},
     "output_type": "execute_result"
    },
    {
     "data": {
      "image/png": "[encoded data removed]",
      "text/plain": [
       "<Figure size 432x288 with 1 Axes>"
      ]
     },
     "metadata": {
      "needs_background": "light"
     },
     "output_type": "display_data"
    }
   ],
   "source": [
    "sa_prcp_nn.plot(x='year', y='50%')"
   ]
  },
  {
   "cell_type": "code",
   "execution_count": 135,
   "metadata": {},
   "outputs": [],
   "source": [
    "oc_prcp_nn = compute_nn_dist_summaries(df, 'PRCP', 'Oceania', 1860, 2019)"
   ]
  },
  {
   "cell_type": "code",
   "execution_count": 136,
   "metadata": {},
   "outputs": [
    {
     "data": {
      "text/plain": [
       "<matplotlib.axes._subplots.AxesSubplot at 0x2be63d49e80>"
      ]
     },
     "execution_count": 136,
     "metadata": {},
     "output_type": "execute_result"
    },
    {
     "data": {
      "image/png": "[encoded data removed]",
      "text/plain": [
       "<Figure size 432x288 with 1 Axes>"
      ]
     },
     "metadata": {
      "needs_background": "light"
     },
     "output_type": "display_data"
    }
   ],
   "source": [
    "oc_prcp_nn.plot(x='year', y='50%')"
   ]
  },
  {
   "cell_type": "code",
   "execution_count": 137,
   "metadata": {},
   "outputs": [
    {
     "data": {
      "text/plain": [
       "1956"
      ]
     },
     "execution_count": 137,
     "metadata": {},
     "output_type": "execute_result"
    }
   ],
   "source": [
    "find_first_year(df, 'PRCP', 'Antartica')"
   ]
  },
  {
   "cell_type": "code",
   "execution_count": 138,
   "metadata": {},
   "outputs": [],
   "source": [
    "an_prcp_nn = compute_nn_dist_summaries(df, 'PRCP', 'Antartica', 1956, 2019)"
   ]
  },
  {
   "cell_type": "code",
   "execution_count": 139,
   "metadata": {},
   "outputs": [
    {
     "data": {
      "text/plain": [
       "<matplotlib.axes._subplots.AxesSubplot at 0x2be63b08da0>"
      ]
     },
     "execution_count": 139,
     "metadata": {},
     "output_type": "execute_result"
    },
    {
     "data": {
      "image/png": "[encoded data removed]",
      "text/plain": [
       "<Figure size 432x288 with 1 Axes>"
      ]
     },
     "metadata": {
      "needs_background": "light"
     },
     "output_type": "display_data"
    }
   ],
   "source": [
    "an_prcp_nn.plot(x='year', y='50%')"
   ]
  },
  {
   "cell_type": "code",
   "execution_count": 145,
   "metadata": {},
   "outputs": [],
   "source": [
    "# Make a dictionary of data frames for passing into a plotting function:\n",
    "data_frame_dict = {'Antartica': an_prcp_nn, 'Africa': af_prcp_nn, 'Asia': as_prcp_nn,\\\n",
    "                  'Europe': eu_prcp_nn, 'North America': na_prcp_nn, 'Oceania': oc_prcp_nn,\\\n",
    "                  'South America': sa_prcp_nn}"
   ]
  },
  {
   "cell_type": "code",
   "execution_count": 142,
   "metadata": {},
   "outputs": [],
   "source": [
    "continents = ['Africa', 'Antartica', 'Asia', 'Europe', 'North America', 'Oceania', 'South America']\n",
    "color_dict = {\"Africa\" : \"blue\", \"Antartica\" : \"orange\", \"Asia\" : \"green\", \"Europe\" : \"red\",\\\n",
    "              \"North America\": \"purple\", \"Oceania\": \"brown\", \"South America\": \"pink\"}"
   ]
  },
  {
   "cell_type": "code",
   "execution_count": 152,
   "metadata": {},
   "outputs": [],
   "source": [
    "def plot_nn_dist (df_dict, min_year, xlabel, ylabel, continents, colors, title, filename, img_path=IMG_PATH):\n",
    "    \"\"\" Plot a line plot for the median nearest neighbor distance for each continent:\n",
    "    \n",
    "    Args:\n",
    "        df_dict: a dictionary of DataFrames of summary statistics of the nearest neighbor distance by year \n",
    "        continents: a list of continent names to be used in the plot.\n",
    "        colors: a dict of the form {\"continent\" : \"color\"} for plotting\n",
    "        xlabel: a string for the xlabel\n",
    "        ylabel: a string for the ylabel\n",
    "        title: a string for the title\n",
    "        filename: a file for saving the figure\n",
    "    \n",
    "    Returns:\n",
    "        the return values of the plt.subplots() function\n",
    "    \"\"\"\n",
    "    if not os.path.isdir(img_path):\n",
    "        os.makedirs(img_path)\n",
    "\n",
    "    fig, ax = plt.subplots(figsize=(10,8))\n",
    "    plt.rcParams.update({'font.size': 14})\n",
    "\n",
    "    for continent in continents:\n",
    "        df = df_dict[continent]\n",
    "        df = df[df.year >= min_year]\n",
    "        q1_nn = df['25%']\n",
    "        med_nn = df['50%']\n",
    "        q3_nn = df['75%']\n",
    "        x_axis = df.year\n",
    "\n",
    "        ax.plot(x_axis, med_nn,\\\n",
    "                #linestyle=\"--\", linewidth=0.5,\\\n",
    "                color=colors[continent],\\\n",
    "                #alpha=0.7,\\\n",
    "                label=continent)\n",
    "        ax.plot(x_axis, q1_nn,\\\n",
    "                #linestyle=\"--\", linewidth=0.5,\\\n",
    "                color=colors[continent],\\\n",
    "                #alpha=0.7,\\\n",
    "                )\n",
    "        ax.plot(x_axis, q3_nn,\\\n",
    "                #linestyle=\"--\", linewidth=0.5,\\\n",
    "                color=colors[continent],\\\n",
    "                #alpha=0.7,\\\n",
    "                )\n",
    "        \n",
    "    #ax.set_xlim(-5, len(counts)+10)\n",
    "    #ax.set_xlim(1781,2019)\n",
    "    \n",
    "    ax.set_xlabel(xlabel)\n",
    "    ax.set_ylabel(ylabel)\n",
    "    ax.set_title(title)\n",
    "    ax.grid(which='major')\n",
    "    ax.xaxis.set_major_locator(plt.MaxNLocator(10))\n",
    "    \n",
    "    plt.legend(loc=\"best\", fontsize=\"medium\", fancybox=True)\n",
    "\n",
    "    #plt.show()\n",
    "    #labels =  [item.get_text() for item in ax.get_xticklabels()]\n",
    "    #print(labels)\n",
    "    #labels[-2] = '2021'\n",
    "    #print(labels)\n",
    "    #ax.set_xticklabels(labels)\n",
    "    \n",
    "    output_file = os.path.join(img_path, filename)\n",
    "    fig.savefig(output_file)\n",
    "    plt.show()\n",
    "\n",
    "    return fig, ax\n"
   ]
  },
  {
   "cell_type": "code",
   "execution_count": 155,
   "metadata": {},
   "outputs": [],
   "source": [
    "def plot_nn_dist_med (df_dict, xlabel, ylabel, continents, colors, title, filename, img_path=IMG_PATH):\n",
    "    \"\"\" Plot a line plot for the median nearest neighbor distance for each continent:\n",
    "    \n",
    "    Args:\n",
    "        df_dict: a dictionary of DataFrames of summary statistics of the nearest neighbor distance by year \n",
    "        continents: a list of continent names to be used in the plot.\n",
    "        colors: a dict of the form {\"continent\" : \"color\"} for plotting\n",
    "        xlabel: a string for the xlabel\n",
    "        ylabel: a string for the ylabel\n",
    "        title: a string for the title\n",
    "        filename: a file for saving the figure\n",
    "    \n",
    "    Returns:\n",
    "        the return values of the plt.subplots() function\n",
    "    \"\"\"\n",
    "    if not os.path.isdir(img_path):\n",
    "        os.makedirs(img_path)\n",
    "\n",
    "    fig, ax = plt.subplots(figsize=(10,8))\n",
    "    plt.rcParams.update({'font.size': 14})\n",
    "\n",
    "    for continent in continents:\n",
    "        df = df_dict[continent]\n",
    "        #df = df[df.year >= min_year]\n",
    "        #q1_nn = df['25%']\n",
    "        med_nn = df['50%']\n",
    "        #q3_nn = df['75%']\n",
    "        x_axis = df.year\n",
    "\n",
    "        ax.plot(x_axis, med_nn,\\\n",
    "                #linestyle=\"--\", linewidth=0.5,\\\n",
    "                color=colors[continent],\\\n",
    "                #alpha=0.7,\\\n",
    "                label=continent)\n",
    "        #ax.plot(x_axis, q1_nn,\\\n",
    "        #        #linestyle=\"--\", linewidth=0.5,\\\n",
    "        #        color=colors[continent],\\\n",
    "        #        #alpha=0.7,\\\n",
    "        #        )\n",
    "        #ax.plot(x_axis, q3_nn,\\\n",
    "        #        #linestyle=\"--\", linewidth=0.5,\\\n",
    "        #        color=colors[continent],\\\n",
    "        #        #alpha=0.7,\\\n",
    "        #        )\n",
    "        \n",
    "    #ax.set_xlim(-5, len(counts)+10)\n",
    "    #ax.set_xlim(1781,2019)\n",
    "    \n",
    "    ax.set_xlabel(xlabel)\n",
    "    ax.set_ylabel(ylabel)\n",
    "    ax.set_title(title)\n",
    "    ax.grid(which='major')\n",
    "    ax.xaxis.set_major_locator(plt.MaxNLocator(10))\n",
    "    \n",
    "    plt.legend(loc=\"best\", fontsize=\"medium\", fancybox=True)\n",
    "\n",
    "    #plt.show()\n",
    "    #labels =  [item.get_text() for item in ax.get_xticklabels()]\n",
    "    #print(labels)\n",
    "    #labels[-2] = '2021'\n",
    "    #print(labels)\n",
    "    #ax.set_xticklabels(labels)\n",
    "    \n",
    "    output_file = os.path.join(img_path, filename)\n",
    "    fig.savefig(output_file)\n",
    "    plt.show()\n",
    "\n",
    "    return fig, ax\n"
   ]
  },
  {
   "cell_type": "code",
   "execution_count": 156,
   "metadata": {},
   "outputs": [
    {
     "data": {
      "image/png": "[encoded data removed]",
      "text/plain": [
       "<Figure size 720x576 with 1 Axes>"
      ]
     },
     "metadata": {
      "needs_background": "light"
     },
     "output_type": "display_data"
    },
    {
     "data": {
      "text/plain": [
       "(<Figure size 720x576 with 1 Axes>,\n",
       " <matplotlib.axes._subplots.AxesSubplot at 0x2be6b0fd240>)"
      ]
     },
     "execution_count": 156,
     "metadata": {},
     "output_type": "execute_result"
    }
   ],
   "source": [
    "plot_nn_dist_med(data_frame_dict, \"Year\", \"Median NN Distance (km)\", continents, color_dict,\\\n",
    "            \"Median Nearest Neighbor Distance by Year\", \"med_nn_dist\")"
   ]
  },
  {
   "cell_type": "code",
   "execution_count": 149,
   "metadata": {},
   "outputs": [
    {
     "name": "stdout",
     "output_type": "stream",
     "text": [
      "Antartica:  220.63697162714828 (km)\n",
      "Africa:  114.88022145534026 (km)\n",
      "Asia:  104.19306869651001 (km)\n",
      "Europe:  19.80597454454378 (km)\n",
      "North America:  4.285371615980454 (km)\n",
      "Oceania:  10.56079620166649 (km)\n",
      "South America:  109.53931374599267 (km)\n"
     ]
    }
   ],
   "source": [
    "for key in data_frame_dict.keys():\n",
    "    results_2018 = data_frame_dict[key].query('year == 2018')\n",
    "    print(f\"{key}:  {results_2018['50%'].values[0]} (km)\")"
   ]
  },
  {
   "cell_type": "code",
   "execution_count": 154,
   "metadata": {},
   "outputs": [
    {
     "data": {
      "image/png": "[encoded data removed]",
      "text/plain": [
       "<Figure size 720x576 with 1 Axes>"
      ]
     },
     "metadata": {
      "needs_background": "light"
     },
     "output_type": "display_data"
    },
    {
     "data": {
      "text/plain": [
       "(<Figure size 720x576 with 1 Axes>,\n",
       " <matplotlib.axes._subplots.AxesSubplot at 0x2be643ddcf8>)"
      ]
     },
     "execution_count": 154,
     "metadata": {},
     "output_type": "execute_result"
    }
   ],
   "source": [
    "plot_nn_dist(data_frame_dict, 1900, \"Year\", \"NN Distance (km)\", continents, color_dict,\\\n",
    "            \"Q1 - Median - Q3 Nearest Neighbor Distance by Year\", \"iqr_nn_dist\")"
   ]
  },
  {
   "cell_type": "code",
   "execution_count": null,
   "metadata": {},
   "outputs": [],
   "source": []
  }
 ],
 "metadata": {
  "kernelspec": {
   "display_name": "Python 3",
   "language": "python",
   "name": "python3"
  },
  "language_info": {
   "codemirror_mode": {
    "name": "ipython",
    "version": 3
   },
   "file_extension": ".py",
   "mimetype": "text/x-python",
   "name": "python",
   "nbconvert_exporter": "python",
   "pygments_lexer": "ipython3",
   "version": "3.6.7"
  }
 },
 "nbformat": 4,
 "nbformat_minor": 2
}
