{
 "cells": [
  {
   "cell_type": "code",
   "execution_count": 1,
   "metadata": {},
   "outputs": [],
   "source": [
    "# import the dependencies\n",
    "import os\n",
    "\n",
    "import pandas as pd\n",
    "import numpy as np\n",
    "import matplotlib.pyplot as plt\n",
    "import seaborn as sns"
   ]
  },
  {
   "cell_type": "code",
   "execution_count": 2,
   "metadata": {},
   "outputs": [],
   "source": [
    "CSV_PATH = os.path.join(\"static\", \"data\", \"csv\")\n",
    "IMG_PATH = os.path.join(\"static\", \"img\")\n",
    "FILE_NAME = \"full_inventory.csv\"\n",
    "FILE_PATH = os.path.join(CSV_PATH, FILE_NAME)"
   ]
  },
  {
   "cell_type": "code",
   "execution_count": 3,
   "metadata": {},
   "outputs": [
    {
     "name": "stderr",
     "output_type": "stream",
     "text": [
      "C:\\Users\\dadra\\anaconda\\Anaconda3\\envs\\PythonData\\lib\\site-packages\\IPython\\core\\interactiveshell.py:3020: DtypeWarning: Columns (10,11,13,18) have mixed types. Specify dtype option on import or set low_memory=False.\n",
      "  interactivity=interactivity, compiler=compiler, result=result)\n"
     ]
    }
   ],
   "source": [
    "# Read in the inventory file\n",
    "# because 'NA' is the code for North America, we need to change pandas.read_csv default behavior\n",
    "# for reading missing values (na's)...\n",
    "\n",
    "df = pd.read_csv(FILE_PATH, keep_default_na=False, na_values=['', '#N/A', '#N/A N/A', '#NA', '-1.#IND', '-1.#QNAN', '-NaN', '-nan',\n",
    "    '1.#IND', '1.#QNAN', 'N/A', 'NULL', 'NaN', 'n/a', 'nan',\n",
    "    'null'])"
   ]
  },
  {
   "cell_type": "code",
   "execution_count": 4,
   "metadata": {},
   "outputs": [
    {
     "data": {
      "text/plain": [
       "North America    571534\n",
       "Oceania           62309\n",
       "Europe            23427\n",
       "Asia              12709\n",
       "South America      8525\n",
       "Africa             5109\n",
       "Antartica           500\n",
       "Name: continent, dtype: int64"
      ]
     },
     "execution_count": 4,
     "metadata": {},
     "output_type": "execute_result"
    }
   ],
   "source": [
    "# Note that these are not unique station counts - these are unique station + element counts.   \n",
    "# If a station records 10 meterological elements, it will be counted 10 times.\n",
    "df.continent.value_counts()"
   ]
  },
  {
   "cell_type": "code",
   "execution_count": 5,
   "metadata": {},
   "outputs": [
    {
     "data": {
      "text/plain": [
       "count            684293\n",
       "unique              219\n",
       "top       United States\n",
       "freq             503430\n",
       "Name: country, dtype: object"
      ]
     },
     "execution_count": 5,
     "metadata": {},
     "output_type": "execute_result"
    }
   ],
   "source": [
    "# \n",
    "df.country.describe()"
   ]
  },
  {
   "cell_type": "code",
   "execution_count": 6,
   "metadata": {},
   "outputs": [
    {
     "data": {
      "text/plain": [
       "North America    76073\n",
       "Oceania          17283\n",
       "Europe            6964\n",
       "South America     6506\n",
       "Asia              5717\n",
       "Africa            2116\n",
       "Antartica          107\n",
       "Name: continent, dtype: int64"
      ]
     },
     "execution_count": 6,
     "metadata": {},
     "output_type": "execute_result"
    }
   ],
   "source": [
    "#  Removing the duplicated station ids gives us the number of distinct stations per continent in the archive\n",
    "df.drop_duplicates('station_id').continent.value_counts()"
   ]
  },
  {
   "cell_type": "code",
   "execution_count": 7,
   "metadata": {},
   "outputs": [
    {
     "data": {
      "text/plain": [
       "United States    61613\n",
       "Australia        17088\n",
       "Canada            8780\n",
       "Brazil            5989\n",
       "Mexico            5249\n",
       "India             3807\n",
       "Sweden            1721\n",
       "South Africa      1166\n",
       "Germany           1123\n",
       "Russia            1123\n",
       "Name: country, dtype: int64"
      ]
     },
     "execution_count": 7,
     "metadata": {},
     "output_type": "execute_result"
    }
   ],
   "source": [
    "df.drop_duplicates('station_id').country.value_counts()[:10]"
   ]
  },
  {
   "cell_type": "markdown",
   "metadata": {},
   "source": [
    "# Examine the Stations in North America"
   ]
  },
  {
   "cell_type": "code",
   "execution_count": 8,
   "metadata": {},
   "outputs": [
    {
     "name": "stdout",
     "output_type": "stream",
     "text": [
      "(571534, 19)\n"
     ]
    },
    {
     "data": {
      "text/html": [
       "<div>\n",
       "<style scoped>\n",
       "    .dataframe tbody tr th:only-of-type {\n",
       "        vertical-align: middle;\n",
       "    }\n",
       "\n",
       "    .dataframe tbody tr th {\n",
       "        vertical-align: top;\n",
       "    }\n",
       "\n",
       "    .dataframe thead th {\n",
       "        text-align: right;\n",
       "    }\n",
       "</style>\n",
       "<table border=\"1\" class=\"dataframe\">\n",
       "  <thead>\n",
       "    <tr style=\"text-align: right;\">\n",
       "      <th></th>\n",
       "      <th>station_id</th>\n",
       "      <th>latitude</th>\n",
       "      <th>longitude</th>\n",
       "      <th>element</th>\n",
       "      <th>first_year</th>\n",
       "      <th>last_year</th>\n",
       "      <th>years</th>\n",
       "      <th>elevation</th>\n",
       "      <th>state</th>\n",
       "      <th>name</th>\n",
       "      <th>gsn_flag</th>\n",
       "      <th>hcn_crn_flag</th>\n",
       "      <th>wmo_id</th>\n",
       "      <th>state_name</th>\n",
       "      <th>country_code</th>\n",
       "      <th>country</th>\n",
       "      <th>continent_code</th>\n",
       "      <th>continent</th>\n",
       "      <th>type</th>\n",
       "    </tr>\n",
       "  </thead>\n",
       "  <tbody>\n",
       "    <tr>\n",
       "      <th>0</th>\n",
       "      <td>ACW00011604</td>\n",
       "      <td>17.1167</td>\n",
       "      <td>-61.7833</td>\n",
       "      <td>TMAX</td>\n",
       "      <td>1949</td>\n",
       "      <td>1949</td>\n",
       "      <td>1</td>\n",
       "      <td>10.1</td>\n",
       "      <td>NaN</td>\n",
       "      <td>ST JOHNS COOLIDGE FLD</td>\n",
       "      <td>NaN</td>\n",
       "      <td>NaN</td>\n",
       "      <td>NaN</td>\n",
       "      <td>NaN</td>\n",
       "      <td>AC</td>\n",
       "      <td>Antigua and Barbuda</td>\n",
       "      <td>NA</td>\n",
       "      <td>North America</td>\n",
       "      <td>W</td>\n",
       "    </tr>\n",
       "    <tr>\n",
       "      <th>1</th>\n",
       "      <td>ACW00011604</td>\n",
       "      <td>17.1167</td>\n",
       "      <td>-61.7833</td>\n",
       "      <td>TMIN</td>\n",
       "      <td>1949</td>\n",
       "      <td>1949</td>\n",
       "      <td>1</td>\n",
       "      <td>10.1</td>\n",
       "      <td>NaN</td>\n",
       "      <td>ST JOHNS COOLIDGE FLD</td>\n",
       "      <td>NaN</td>\n",
       "      <td>NaN</td>\n",
       "      <td>NaN</td>\n",
       "      <td>NaN</td>\n",
       "      <td>AC</td>\n",
       "      <td>Antigua and Barbuda</td>\n",
       "      <td>NA</td>\n",
       "      <td>North America</td>\n",
       "      <td>W</td>\n",
       "    </tr>\n",
       "    <tr>\n",
       "      <th>2</th>\n",
       "      <td>ACW00011604</td>\n",
       "      <td>17.1167</td>\n",
       "      <td>-61.7833</td>\n",
       "      <td>PRCP</td>\n",
       "      <td>1949</td>\n",
       "      <td>1949</td>\n",
       "      <td>1</td>\n",
       "      <td>10.1</td>\n",
       "      <td>NaN</td>\n",
       "      <td>ST JOHNS COOLIDGE FLD</td>\n",
       "      <td>NaN</td>\n",
       "      <td>NaN</td>\n",
       "      <td>NaN</td>\n",
       "      <td>NaN</td>\n",
       "      <td>AC</td>\n",
       "      <td>Antigua and Barbuda</td>\n",
       "      <td>NA</td>\n",
       "      <td>North America</td>\n",
       "      <td>W</td>\n",
       "    </tr>\n",
       "    <tr>\n",
       "      <th>3</th>\n",
       "      <td>ACW00011604</td>\n",
       "      <td>17.1167</td>\n",
       "      <td>-61.7833</td>\n",
       "      <td>SNOW</td>\n",
       "      <td>1949</td>\n",
       "      <td>1949</td>\n",
       "      <td>1</td>\n",
       "      <td>10.1</td>\n",
       "      <td>NaN</td>\n",
       "      <td>ST JOHNS COOLIDGE FLD</td>\n",
       "      <td>NaN</td>\n",
       "      <td>NaN</td>\n",
       "      <td>NaN</td>\n",
       "      <td>NaN</td>\n",
       "      <td>AC</td>\n",
       "      <td>Antigua and Barbuda</td>\n",
       "      <td>NA</td>\n",
       "      <td>North America</td>\n",
       "      <td>W</td>\n",
       "    </tr>\n",
       "    <tr>\n",
       "      <th>4</th>\n",
       "      <td>ACW00011604</td>\n",
       "      <td>17.1167</td>\n",
       "      <td>-61.7833</td>\n",
       "      <td>SNWD</td>\n",
       "      <td>1949</td>\n",
       "      <td>1949</td>\n",
       "      <td>1</td>\n",
       "      <td>10.1</td>\n",
       "      <td>NaN</td>\n",
       "      <td>ST JOHNS COOLIDGE FLD</td>\n",
       "      <td>NaN</td>\n",
       "      <td>NaN</td>\n",
       "      <td>NaN</td>\n",
       "      <td>NaN</td>\n",
       "      <td>AC</td>\n",
       "      <td>Antigua and Barbuda</td>\n",
       "      <td>NA</td>\n",
       "      <td>North America</td>\n",
       "      <td>W</td>\n",
       "    </tr>\n",
       "  </tbody>\n",
       "</table>\n",
       "</div>"
      ],
      "text/plain": [
       "    station_id  latitude  longitude element  first_year  last_year  years  \\\n",
       "0  ACW00011604   17.1167   -61.7833    TMAX        1949       1949      1   \n",
       "1  ACW00011604   17.1167   -61.7833    TMIN        1949       1949      1   \n",
       "2  ACW00011604   17.1167   -61.7833    PRCP        1949       1949      1   \n",
       "3  ACW00011604   17.1167   -61.7833    SNOW        1949       1949      1   \n",
       "4  ACW00011604   17.1167   -61.7833    SNWD        1949       1949      1   \n",
       "\n",
       "   elevation state                   name gsn_flag hcn_crn_flag  wmo_id  \\\n",
       "0       10.1   NaN  ST JOHNS COOLIDGE FLD      NaN          NaN     NaN   \n",
       "1       10.1   NaN  ST JOHNS COOLIDGE FLD      NaN          NaN     NaN   \n",
       "2       10.1   NaN  ST JOHNS COOLIDGE FLD      NaN          NaN     NaN   \n",
       "3       10.1   NaN  ST JOHNS COOLIDGE FLD      NaN          NaN     NaN   \n",
       "4       10.1   NaN  ST JOHNS COOLIDGE FLD      NaN          NaN     NaN   \n",
       "\n",
       "  state_name country_code              country continent_code      continent  \\\n",
       "0        NaN           AC  Antigua and Barbuda             NA  North America   \n",
       "1        NaN           AC  Antigua and Barbuda             NA  North America   \n",
       "2        NaN           AC  Antigua and Barbuda             NA  North America   \n",
       "3        NaN           AC  Antigua and Barbuda             NA  North America   \n",
       "4        NaN           AC  Antigua and Barbuda             NA  North America   \n",
       "\n",
       "  type  \n",
       "0    W  \n",
       "1    W  \n",
       "2    W  \n",
       "3    W  \n",
       "4    W  "
      ]
     },
     "execution_count": 8,
     "metadata": {},
     "output_type": "execute_result"
    }
   ],
   "source": [
    "na_df = df.query(\"continent == 'North America'\")\n",
    "print(na_df.shape)\n",
    "na_df.head()"
   ]
  },
  {
   "cell_type": "code",
   "execution_count": 9,
   "metadata": {},
   "outputs": [
    {
     "data": {
      "text/plain": [
       "United States                         0.809919\n",
       "Canada                                0.115415\n",
       "Mexico                                0.069000\n",
       "Puerto Rico [United States]           0.002774\n",
       "Greenland [Denmark]                   0.000907\n",
       "Virgin Islands [United States]        0.000565\n",
       "Bahamas, The                          0.000500\n",
       "Panama                                0.000131\n",
       "Honduras                              0.000105\n",
       "Nicaragua                             0.000079\n",
       "Cuba                                  0.000079\n",
       "Costa Rica                            0.000079\n",
       "Dominican Republic                    0.000066\n",
       "Trinidad and Tobago                   0.000053\n",
       "El Salvador                           0.000039\n",
       "Jamaica                               0.000039\n",
       "Guadeloupe [France]                   0.000039\n",
       "Antigua and Barbuda                   0.000026\n",
       "Saint Lucia                           0.000026\n",
       "Martinique [France]                   0.000026\n",
       "Bermuda [United Kingdom]              0.000026\n",
       "Guatemala                             0.000013\n",
       "Dominica                              0.000013\n",
       "Cayman Islands [United Kingdom]       0.000013\n",
       "Saint Pierre and Miquelon [France]    0.000013\n",
       "Barbados                              0.000013\n",
       "Belize                                0.000013\n",
       "Sint Maarten                          0.000013\n",
       "Curacao                               0.000013\n",
       "Name: country, dtype: float64"
      ]
     },
     "execution_count": 9,
     "metadata": {},
     "output_type": "execute_result"
    }
   ],
   "source": [
    "# What is the distribution of stations among countries in North America?\n",
    "na_df.drop_duplicates('station_id').country.value_counts(normalize=True)"
   ]
  },
  {
   "cell_type": "code",
   "execution_count": 10,
   "metadata": {},
   "outputs": [],
   "source": [
    "na_stations = na_df.drop_duplicates('station_id')"
   ]
  },
  {
   "cell_type": "code",
   "execution_count": 11,
   "metadata": {},
   "outputs": [
    {
     "data": {
      "text/plain": [
       "(76073, 19)"
      ]
     },
     "execution_count": 11,
     "metadata": {},
     "output_type": "execute_result"
    }
   ],
   "source": [
    "na_stations.shape"
   ]
  },
  {
   "cell_type": "code",
   "execution_count": 12,
   "metadata": {
    "scrolled": true
   },
   "outputs": [
    {
     "data": {
      "text/html": [
       "<div>\n",
       "<style scoped>\n",
       "    .dataframe tbody tr th:only-of-type {\n",
       "        vertical-align: middle;\n",
       "    }\n",
       "\n",
       "    .dataframe tbody tr th {\n",
       "        vertical-align: top;\n",
       "    }\n",
       "\n",
       "    .dataframe thead th {\n",
       "        text-align: right;\n",
       "    }\n",
       "</style>\n",
       "<table border=\"1\" class=\"dataframe\">\n",
       "  <thead>\n",
       "    <tr style=\"text-align: right;\">\n",
       "      <th></th>\n",
       "      <th>station_id</th>\n",
       "      <th>latitude</th>\n",
       "      <th>longitude</th>\n",
       "      <th>element</th>\n",
       "      <th>first_year</th>\n",
       "      <th>last_year</th>\n",
       "      <th>years</th>\n",
       "      <th>elevation</th>\n",
       "      <th>state</th>\n",
       "      <th>name</th>\n",
       "      <th>gsn_flag</th>\n",
       "      <th>hcn_crn_flag</th>\n",
       "      <th>wmo_id</th>\n",
       "      <th>state_name</th>\n",
       "      <th>country_code</th>\n",
       "      <th>country</th>\n",
       "      <th>continent_code</th>\n",
       "      <th>continent</th>\n",
       "      <th>type</th>\n",
       "    </tr>\n",
       "  </thead>\n",
       "  <tbody>\n",
       "    <tr>\n",
       "      <th>0</th>\n",
       "      <td>ACW00011604</td>\n",
       "      <td>17.1167</td>\n",
       "      <td>-61.7833</td>\n",
       "      <td>TMAX</td>\n",
       "      <td>1949</td>\n",
       "      <td>1949</td>\n",
       "      <td>1</td>\n",
       "      <td>10.1</td>\n",
       "      <td>NaN</td>\n",
       "      <td>ST JOHNS COOLIDGE FLD</td>\n",
       "      <td>NaN</td>\n",
       "      <td>NaN</td>\n",
       "      <td>NaN</td>\n",
       "      <td>NaN</td>\n",
       "      <td>AC</td>\n",
       "      <td>Antigua and Barbuda</td>\n",
       "      <td>NA</td>\n",
       "      <td>North America</td>\n",
       "      <td>W</td>\n",
       "    </tr>\n",
       "    <tr>\n",
       "      <th>11</th>\n",
       "      <td>ACW00011647</td>\n",
       "      <td>17.1333</td>\n",
       "      <td>-61.7833</td>\n",
       "      <td>TMAX</td>\n",
       "      <td>1961</td>\n",
       "      <td>1961</td>\n",
       "      <td>1</td>\n",
       "      <td>19.2</td>\n",
       "      <td>NaN</td>\n",
       "      <td>ST JOHNS</td>\n",
       "      <td>NaN</td>\n",
       "      <td>NaN</td>\n",
       "      <td>NaN</td>\n",
       "      <td>NaN</td>\n",
       "      <td>AC</td>\n",
       "      <td>Antigua and Barbuda</td>\n",
       "      <td>NA</td>\n",
       "      <td>North America</td>\n",
       "      <td>W</td>\n",
       "    </tr>\n",
       "    <tr>\n",
       "      <th>62844</th>\n",
       "      <td>BB000078954</td>\n",
       "      <td>13.0670</td>\n",
       "      <td>-59.4830</td>\n",
       "      <td>TMAX</td>\n",
       "      <td>1944</td>\n",
       "      <td>2018</td>\n",
       "      <td>75</td>\n",
       "      <td>52.0</td>\n",
       "      <td>NaN</td>\n",
       "      <td>GRANTLEY ADAMS</td>\n",
       "      <td>GSN</td>\n",
       "      <td>NaN</td>\n",
       "      <td>78954.0</td>\n",
       "      <td>NaN</td>\n",
       "      <td>BB</td>\n",
       "      <td>Barbados</td>\n",
       "      <td>NA</td>\n",
       "      <td>North America</td>\n",
       "      <td>0</td>\n",
       "    </tr>\n",
       "    <tr>\n",
       "      <th>62902</th>\n",
       "      <td>BDM00078016</td>\n",
       "      <td>32.3667</td>\n",
       "      <td>-64.6833</td>\n",
       "      <td>TMAX</td>\n",
       "      <td>1949</td>\n",
       "      <td>2019</td>\n",
       "      <td>71</td>\n",
       "      <td>6.1</td>\n",
       "      <td>NaN</td>\n",
       "      <td>L F WADE INTL AP KINDLEY FLD</td>\n",
       "      <td>GSN</td>\n",
       "      <td>NaN</td>\n",
       "      <td>78016.0</td>\n",
       "      <td>NaN</td>\n",
       "      <td>BD</td>\n",
       "      <td>Bermuda [United Kingdom]</td>\n",
       "      <td>NA</td>\n",
       "      <td>North America</td>\n",
       "      <td>M</td>\n",
       "    </tr>\n",
       "    <tr>\n",
       "      <th>62932</th>\n",
       "      <td>BDW00013602</td>\n",
       "      <td>32.2667</td>\n",
       "      <td>-64.8500</td>\n",
       "      <td>TMAX</td>\n",
       "      <td>1945</td>\n",
       "      <td>1965</td>\n",
       "      <td>21</td>\n",
       "      <td>13.1</td>\n",
       "      <td>NaN</td>\n",
       "      <td>BERMUDA</td>\n",
       "      <td>NaN</td>\n",
       "      <td>NaN</td>\n",
       "      <td>NaN</td>\n",
       "      <td>NaN</td>\n",
       "      <td>BD</td>\n",
       "      <td>Bermuda [United Kingdom]</td>\n",
       "      <td>NA</td>\n",
       "      <td>North America</td>\n",
       "      <td>W</td>\n",
       "    </tr>\n",
       "  </tbody>\n",
       "</table>\n",
       "</div>"
      ],
      "text/plain": [
       "        station_id  latitude  longitude element  first_year  last_year  years  \\\n",
       "0      ACW00011604   17.1167   -61.7833    TMAX        1949       1949      1   \n",
       "11     ACW00011647   17.1333   -61.7833    TMAX        1961       1961      1   \n",
       "62844  BB000078954   13.0670   -59.4830    TMAX        1944       2018     75   \n",
       "62902  BDM00078016   32.3667   -64.6833    TMAX        1949       2019     71   \n",
       "62932  BDW00013602   32.2667   -64.8500    TMAX        1945       1965     21   \n",
       "\n",
       "       elevation state                          name gsn_flag hcn_crn_flag  \\\n",
       "0           10.1   NaN         ST JOHNS COOLIDGE FLD      NaN          NaN   \n",
       "11          19.2   NaN                      ST JOHNS      NaN          NaN   \n",
       "62844       52.0   NaN                GRANTLEY ADAMS      GSN          NaN   \n",
       "62902        6.1   NaN  L F WADE INTL AP KINDLEY FLD      GSN          NaN   \n",
       "62932       13.1   NaN                       BERMUDA      NaN          NaN   \n",
       "\n",
       "        wmo_id state_name country_code                   country  \\\n",
       "0          NaN        NaN           AC       Antigua and Barbuda   \n",
       "11         NaN        NaN           AC       Antigua and Barbuda   \n",
       "62844  78954.0        NaN           BB                  Barbados   \n",
       "62902  78016.0        NaN           BD  Bermuda [United Kingdom]   \n",
       "62932      NaN        NaN           BD  Bermuda [United Kingdom]   \n",
       "\n",
       "      continent_code      continent type  \n",
       "0                 NA  North America    W  \n",
       "11                NA  North America    W  \n",
       "62844             NA  North America    0  \n",
       "62902             NA  North America    M  \n",
       "62932             NA  North America    W  "
      ]
     },
     "execution_count": 12,
     "metadata": {},
     "output_type": "execute_result"
    }
   ],
   "source": [
    "na_stations.head()"
   ]
  },
  {
   "cell_type": "code",
   "execution_count": 13,
   "metadata": {},
   "outputs": [],
   "source": [
    "na_prcp = na_df.query('element == \"PRCP\"')"
   ]
  },
  {
   "cell_type": "code",
   "execution_count": 14,
   "metadata": {},
   "outputs": [
    {
     "data": {
      "text/plain": [
       "(74440, 19)"
      ]
     },
     "execution_count": 14,
     "metadata": {},
     "output_type": "execute_result"
    }
   ],
   "source": [
    "na_prcp.shape  # Number of stations in North America reporting PRCP (at some point in time)"
   ]
  },
  {
   "cell_type": "code",
   "execution_count": 15,
   "metadata": {},
   "outputs": [
    {
     "data": {
      "text/plain": [
       "(74440, 19)"
      ]
     },
     "execution_count": 15,
     "metadata": {},
     "output_type": "execute_result"
    }
   ],
   "source": [
    "na_prcp.drop_duplicates('station_id').shape  # sanity check!  no duplicate stations after filtering on elements"
   ]
  },
  {
   "cell_type": "markdown",
   "metadata": {},
   "source": [
    "# Consider the Different Types of Stations in North America"
   ]
  },
  {
   "cell_type": "code",
   "execution_count": 16,
   "metadata": {},
   "outputs": [
    {
     "data": {
      "text/plain": [
       "1    35986\n",
       "C    22667\n",
       "0     7931\n",
       "N     5170\n",
       "W     1794\n",
       "R     1509\n",
       "S      859\n",
       "M      107\n",
       "E       47\n",
       "P        3\n",
       "Name: ctype, dtype: int64"
      ]
     },
     "execution_count": 16,
     "metadata": {},
     "output_type": "execute_result"
    }
   ],
   "source": [
    "df['ctype'] = df.type.map(lambda x: str(x)) # type type column had issues with 1 and '1' being different - fix here\n",
    "na_df = df.query(\"continent == 'North America'\")\n",
    "na_stations = na_df.drop_duplicates('station_id')\n",
    "na_stations.ctype.value_counts()"
   ]
  },
  {
   "cell_type": "code",
   "execution_count": 17,
   "metadata": {},
   "outputs": [],
   "source": [
    "def count_station_types_by_year(inventory, element):\n",
    "    \n",
    "    def initialize_dict_from_array(arr):\n",
    "        return {item : 0 for item in arr}\n",
    "    \n",
    "    # range of years\n",
    "    min_year = inventory[inventory['element'] == element].first_year.min()\n",
    "    max_year = inventory[inventory['element'] == element].last_year.max()\n",
    "    sub_inventory = inventory[inventory['element'] == element]\n",
    "    \n",
    "    types = inventory.station_id.apply(lambda x: x[2]).unique()\n",
    "    \n",
    "    results_list = []\n",
    "    # Not the most efficient - but need to figure out why the above failed...\n",
    "    for year in range(min_year, max_year + 1):\n",
    "        results_dict = initialize_dict_from_array(types)\n",
    "        results_dict['year'] = year\n",
    "        \n",
    "        for row in sub_inventory.itertuples():\n",
    "            if ((row.first_year <= year) and (year <= row.last_year)):\n",
    "                # station was active in the given year:\n",
    "                station = row.station_id\n",
    "                \n",
    "                # get the station type:\n",
    "                station_type = row.station_id[2]\n",
    "                results_dict[station_type] += 1\n",
    "                \n",
    "        results_list.append(results_dict)\n",
    "        \n",
    "    return pd.DataFrame(results_list)"
   ]
  },
  {
   "cell_type": "code",
   "execution_count": 18,
   "metadata": {},
   "outputs": [
    {
     "data": {
      "text/html": [
       "<div>\n",
       "<style scoped>\n",
       "    .dataframe tbody tr th:only-of-type {\n",
       "        vertical-align: middle;\n",
       "    }\n",
       "\n",
       "    .dataframe tbody tr th {\n",
       "        vertical-align: top;\n",
       "    }\n",
       "\n",
       "    .dataframe thead th {\n",
       "        text-align: right;\n",
       "    }\n",
       "</style>\n",
       "<table border=\"1\" class=\"dataframe\">\n",
       "  <thead>\n",
       "    <tr style=\"text-align: right;\">\n",
       "      <th></th>\n",
       "      <th>0</th>\n",
       "      <th>1</th>\n",
       "      <th>C</th>\n",
       "      <th>E</th>\n",
       "      <th>M</th>\n",
       "      <th>N</th>\n",
       "      <th>P</th>\n",
       "      <th>R</th>\n",
       "      <th>S</th>\n",
       "      <th>W</th>\n",
       "      <th>year</th>\n",
       "    </tr>\n",
       "  </thead>\n",
       "  <tbody>\n",
       "    <tr>\n",
       "      <th>179</th>\n",
       "      <td>1291</td>\n",
       "      <td>19259</td>\n",
       "      <td>6968</td>\n",
       "      <td>3</td>\n",
       "      <td>94</td>\n",
       "      <td>0</td>\n",
       "      <td>0</td>\n",
       "      <td>0</td>\n",
       "      <td>853</td>\n",
       "      <td>1165</td>\n",
       "      <td>2015</td>\n",
       "    </tr>\n",
       "    <tr>\n",
       "      <th>180</th>\n",
       "      <td>1227</td>\n",
       "      <td>19623</td>\n",
       "      <td>6816</td>\n",
       "      <td>3</td>\n",
       "      <td>94</td>\n",
       "      <td>0</td>\n",
       "      <td>0</td>\n",
       "      <td>0</td>\n",
       "      <td>850</td>\n",
       "      <td>1164</td>\n",
       "      <td>2016</td>\n",
       "    </tr>\n",
       "    <tr>\n",
       "      <th>181</th>\n",
       "      <td>1168</td>\n",
       "      <td>19798</td>\n",
       "      <td>6697</td>\n",
       "      <td>3</td>\n",
       "      <td>89</td>\n",
       "      <td>0</td>\n",
       "      <td>0</td>\n",
       "      <td>0</td>\n",
       "      <td>832</td>\n",
       "      <td>1159</td>\n",
       "      <td>2017</td>\n",
       "    </tr>\n",
       "    <tr>\n",
       "      <th>182</th>\n",
       "      <td>1125</td>\n",
       "      <td>19748</td>\n",
       "      <td>6498</td>\n",
       "      <td>3</td>\n",
       "      <td>89</td>\n",
       "      <td>0</td>\n",
       "      <td>0</td>\n",
       "      <td>0</td>\n",
       "      <td>770</td>\n",
       "      <td>1155</td>\n",
       "      <td>2018</td>\n",
       "    </tr>\n",
       "    <tr>\n",
       "      <th>183</th>\n",
       "      <td>1066</td>\n",
       "      <td>18134</td>\n",
       "      <td>6219</td>\n",
       "      <td>0</td>\n",
       "      <td>88</td>\n",
       "      <td>0</td>\n",
       "      <td>0</td>\n",
       "      <td>0</td>\n",
       "      <td>764</td>\n",
       "      <td>1150</td>\n",
       "      <td>2019</td>\n",
       "    </tr>\n",
       "  </tbody>\n",
       "</table>\n",
       "</div>"
      ],
      "text/plain": [
       "        0      1     C  E   M  N  P  R    S     W  year\n",
       "179  1291  19259  6968  3  94  0  0  0  853  1165  2015\n",
       "180  1227  19623  6816  3  94  0  0  0  850  1164  2016\n",
       "181  1168  19798  6697  3  89  0  0  0  832  1159  2017\n",
       "182  1125  19748  6498  3  89  0  0  0  770  1155  2018\n",
       "183  1066  18134  6219  0  88  0  0  0  764  1150  2019"
      ]
     },
     "execution_count": 18,
     "metadata": {},
     "output_type": "execute_result"
    }
   ],
   "source": [
    "na_prcp_by_type = count_station_types_by_year(na_df, 'PRCP')\n",
    "na_prcp_by_type.tail()"
   ]
  },
  {
   "cell_type": "code",
   "execution_count": 19,
   "metadata": {},
   "outputs": [],
   "source": [
    "def plot_station_counts (summary_df, xlabel, ylabel, types, colors, title, filename, img_path=IMG_PATH):\n",
    "    \"\"\" Plot a line plot for the number of active stations each year for each type:\n",
    "    \n",
    "    Args:\n",
    "        summmary_df: a DataFrame of counts versus year for each continent\n",
    "        types: a list of type names to be used in the plot.\n",
    "        colors: a dict of the form {\"continent\" : \"color\"} for plotting\n",
    "        xlabel: a string for the xlabel\n",
    "        ylabel: a string for the ylabel\n",
    "        title: a string for the title\n",
    "        filename: a file for saving the figure\n",
    "    \n",
    "    Returns:\n",
    "        the return values of the plt.subplots() function\n",
    "    \"\"\"\n",
    "    #sns.set(style=\"ticks\")\n",
    "    fig, ax = plt.subplots(figsize=(10,8))\n",
    "    plt.rcParams.update({'font.size': 14})\n",
    "\n",
    "    for stype in types:\n",
    "        counts = summary_df[stype]\n",
    "        \n",
    "        x_axis = summary_df.year\n",
    "        ax.plot(x_axis, counts,\\\n",
    "                #linestyle=\"--\", linewidth=0.5,\\\n",
    "                color=colors[stype],\\\n",
    "                #alpha=0.7,\\\n",
    "                label=stype)\n",
    "        \n",
    "    #ax.set_xlim(-5, len(counts)+10)\n",
    "    #ax.set_xlim(1781,2019)\n",
    "    \n",
    "    ax.set_xlabel(xlabel)\n",
    "    ax.set_ylabel(ylabel)\n",
    "    ax.set_title(title)\n",
    "    ax.grid(which='major')\n",
    "    ax.xaxis.set_major_locator(plt.MaxNLocator(10))\n",
    "    \n",
    "    plt.legend(loc=\"best\", fontsize=\"medium\", fancybox=True)\n",
    "\n",
    "    #plt.show()\n",
    "    #labels =  [item.get_text() for item in ax.get_xticklabels()]\n",
    "    #print(labels)\n",
    "    #labels[-2] = '2021'\n",
    "    #print(labels)\n",
    "    #ax.set_xticklabels(labels)\n",
    "    \n",
    "    output_file = os.path.join(img_path, filename)\n",
    "    fig.savefig(output_file)\n",
    "    plt.show()\n",
    "\n",
    "    return fig, ax"
   ]
  },
  {
   "cell_type": "code",
   "execution_count": 20,
   "metadata": {},
   "outputs": [],
   "source": [
    "station_color_dict = {'W': 'blue', '0': 'orange', 'M': 'green', '1': 'red', 'E': 'purple', 'N': 'brown', 'C': 'black', 'P': 'pink', 'R': 'yellow', 'S': 'magenta'}"
   ]
  },
  {
   "cell_type": "code",
   "execution_count": 21,
   "metadata": {},
   "outputs": [],
   "source": [
    "station_types = na_df.ctype.unique().tolist()"
   ]
  },
  {
   "cell_type": "code",
   "execution_count": 22,
   "metadata": {},
   "outputs": [
    {
     "data": {
      "image/png": "[encoded data removed]",
      "text/plain": [
       "<Figure size 720x576 with 1 Axes>"
      ]
     },
     "metadata": {
      "needs_background": "light"
     },
     "output_type": "display_data"
    }
   ],
   "source": [
    "fig, ax = plot_station_counts(na_prcp_by_type,\\\n",
    "                    \"Year\", \"Number of Stations\",\\\n",
    "                    station_types, station_color_dict,\\\n",
    "                    \"Number of Active Stations Measuring Daily Precipitation By Year\",\\\n",
    "                    \"type_prcp_by_year.png\")"
   ]
  },
  {
   "cell_type": "code",
   "execution_count": 23,
   "metadata": {},
   "outputs": [
    {
     "data": {
      "image/png": "[encoded data removed]",
      "text/plain": [
       "<Figure size 720x576 with 1 Axes>"
      ]
     },
     "metadata": {
      "needs_background": "light"
     },
     "output_type": "display_data"
    }
   ],
   "source": [
    "na_tmin = count_station_types_by_year(na_df, \"TMIN\")\n",
    "fig, ax = plot_station_counts(na_tmin,\\\n",
    "                    \"Year\", \"Number of Stations\",\\\n",
    "                    station_types, station_color_dict,\\\n",
    "                    \"Number of Active Stations Measuring Daily Min Temp By Year\",\\\n",
    "                    \"type_tmin_by_year.png\")"
   ]
  },
  {
   "cell_type": "code",
   "execution_count": 24,
   "metadata": {},
   "outputs": [
    {
     "data": {
      "text/html": [
       "<div>\n",
       "<style scoped>\n",
       "    .dataframe tbody tr th:only-of-type {\n",
       "        vertical-align: middle;\n",
       "    }\n",
       "\n",
       "    .dataframe tbody tr th {\n",
       "        vertical-align: top;\n",
       "    }\n",
       "\n",
       "    .dataframe thead th {\n",
       "        text-align: right;\n",
       "    }\n",
       "</style>\n",
       "<table border=\"1\" class=\"dataframe\">\n",
       "  <thead>\n",
       "    <tr style=\"text-align: right;\">\n",
       "      <th></th>\n",
       "      <th>0</th>\n",
       "      <th>1</th>\n",
       "      <th>C</th>\n",
       "      <th>E</th>\n",
       "      <th>M</th>\n",
       "      <th>N</th>\n",
       "      <th>P</th>\n",
       "      <th>R</th>\n",
       "      <th>S</th>\n",
       "      <th>W</th>\n",
       "      <th>year</th>\n",
       "    </tr>\n",
       "  </thead>\n",
       "  <tbody>\n",
       "    <tr>\n",
       "      <th>175</th>\n",
       "      <td>1287</td>\n",
       "      <td>0</td>\n",
       "      <td>5231</td>\n",
       "      <td>17</td>\n",
       "      <td>96</td>\n",
       "      <td>0</td>\n",
       "      <td>0</td>\n",
       "      <td>1292</td>\n",
       "      <td>853</td>\n",
       "      <td>1156</td>\n",
       "      <td>2015</td>\n",
       "    </tr>\n",
       "    <tr>\n",
       "      <th>176</th>\n",
       "      <td>1237</td>\n",
       "      <td>0</td>\n",
       "      <td>5107</td>\n",
       "      <td>17</td>\n",
       "      <td>95</td>\n",
       "      <td>0</td>\n",
       "      <td>0</td>\n",
       "      <td>1281</td>\n",
       "      <td>849</td>\n",
       "      <td>1156</td>\n",
       "      <td>2016</td>\n",
       "    </tr>\n",
       "    <tr>\n",
       "      <th>177</th>\n",
       "      <td>1185</td>\n",
       "      <td>0</td>\n",
       "      <td>5011</td>\n",
       "      <td>17</td>\n",
       "      <td>90</td>\n",
       "      <td>0</td>\n",
       "      <td>0</td>\n",
       "      <td>1272</td>\n",
       "      <td>832</td>\n",
       "      <td>1152</td>\n",
       "      <td>2017</td>\n",
       "    </tr>\n",
       "    <tr>\n",
       "      <th>178</th>\n",
       "      <td>1145</td>\n",
       "      <td>0</td>\n",
       "      <td>4873</td>\n",
       "      <td>17</td>\n",
       "      <td>90</td>\n",
       "      <td>0</td>\n",
       "      <td>0</td>\n",
       "      <td>1259</td>\n",
       "      <td>770</td>\n",
       "      <td>1149</td>\n",
       "      <td>2018</td>\n",
       "    </tr>\n",
       "    <tr>\n",
       "      <th>179</th>\n",
       "      <td>1091</td>\n",
       "      <td>0</td>\n",
       "      <td>4706</td>\n",
       "      <td>2</td>\n",
       "      <td>88</td>\n",
       "      <td>0</td>\n",
       "      <td>0</td>\n",
       "      <td>1234</td>\n",
       "      <td>764</td>\n",
       "      <td>1144</td>\n",
       "      <td>2019</td>\n",
       "    </tr>\n",
       "  </tbody>\n",
       "</table>\n",
       "</div>"
      ],
      "text/plain": [
       "        0  1     C   E   M  N  P     R    S     W  year\n",
       "175  1287  0  5231  17  96  0  0  1292  853  1156  2015\n",
       "176  1237  0  5107  17  95  0  0  1281  849  1156  2016\n",
       "177  1185  0  5011  17  90  0  0  1272  832  1152  2017\n",
       "178  1145  0  4873  17  90  0  0  1259  770  1149  2018\n",
       "179  1091  0  4706   2  88  0  0  1234  764  1144  2019"
      ]
     },
     "execution_count": 24,
     "metadata": {},
     "output_type": "execute_result"
    }
   ],
   "source": [
    "na_tmin.tail()"
   ]
  },
  {
   "cell_type": "code",
   "execution_count": 25,
   "metadata": {},
   "outputs": [
    {
     "data": {
      "image/png": "[encoded data removed]",
      "text/plain": [
       "<Figure size 720x576 with 1 Axes>"
      ]
     },
     "metadata": {
      "needs_background": "light"
     },
     "output_type": "display_data"
    }
   ],
   "source": [
    "na_tmax = count_station_types_by_year(na_df, \"TMAX\")\n",
    "fig, ax = plot_station_counts(na_tmax,\\\n",
    "                    \"Year\", \"Number of Stations\",\\\n",
    "                    station_types, station_color_dict,\\\n",
    "                    \"Number of Active Stations Measuring Daily Max Temp By Year\",\\\n",
    "                    \"type_tmax_by_year.png\")"
   ]
  },
  {
   "cell_type": "code",
   "execution_count": 26,
   "metadata": {},
   "outputs": [
    {
     "data": {
      "text/html": [
       "<div>\n",
       "<style scoped>\n",
       "    .dataframe tbody tr th:only-of-type {\n",
       "        vertical-align: middle;\n",
       "    }\n",
       "\n",
       "    .dataframe tbody tr th {\n",
       "        vertical-align: top;\n",
       "    }\n",
       "\n",
       "    .dataframe thead th {\n",
       "        text-align: right;\n",
       "    }\n",
       "</style>\n",
       "<table border=\"1\" class=\"dataframe\">\n",
       "  <thead>\n",
       "    <tr style=\"text-align: right;\">\n",
       "      <th></th>\n",
       "      <th>0</th>\n",
       "      <th>1</th>\n",
       "      <th>C</th>\n",
       "      <th>E</th>\n",
       "      <th>M</th>\n",
       "      <th>N</th>\n",
       "      <th>P</th>\n",
       "      <th>R</th>\n",
       "      <th>S</th>\n",
       "      <th>W</th>\n",
       "      <th>year</th>\n",
       "    </tr>\n",
       "  </thead>\n",
       "  <tbody>\n",
       "    <tr>\n",
       "      <th>175</th>\n",
       "      <td>1288</td>\n",
       "      <td>0</td>\n",
       "      <td>5231</td>\n",
       "      <td>17</td>\n",
       "      <td>96</td>\n",
       "      <td>0</td>\n",
       "      <td>0</td>\n",
       "      <td>1292</td>\n",
       "      <td>853</td>\n",
       "      <td>1156</td>\n",
       "      <td>2015</td>\n",
       "    </tr>\n",
       "    <tr>\n",
       "      <th>176</th>\n",
       "      <td>1236</td>\n",
       "      <td>0</td>\n",
       "      <td>5108</td>\n",
       "      <td>17</td>\n",
       "      <td>95</td>\n",
       "      <td>0</td>\n",
       "      <td>0</td>\n",
       "      <td>1281</td>\n",
       "      <td>849</td>\n",
       "      <td>1156</td>\n",
       "      <td>2016</td>\n",
       "    </tr>\n",
       "    <tr>\n",
       "      <th>177</th>\n",
       "      <td>1186</td>\n",
       "      <td>0</td>\n",
       "      <td>5012</td>\n",
       "      <td>17</td>\n",
       "      <td>90</td>\n",
       "      <td>0</td>\n",
       "      <td>0</td>\n",
       "      <td>1272</td>\n",
       "      <td>832</td>\n",
       "      <td>1152</td>\n",
       "      <td>2017</td>\n",
       "    </tr>\n",
       "    <tr>\n",
       "      <th>178</th>\n",
       "      <td>1145</td>\n",
       "      <td>0</td>\n",
       "      <td>4875</td>\n",
       "      <td>17</td>\n",
       "      <td>90</td>\n",
       "      <td>0</td>\n",
       "      <td>0</td>\n",
       "      <td>1259</td>\n",
       "      <td>769</td>\n",
       "      <td>1149</td>\n",
       "      <td>2018</td>\n",
       "    </tr>\n",
       "    <tr>\n",
       "      <th>179</th>\n",
       "      <td>1089</td>\n",
       "      <td>0</td>\n",
       "      <td>4708</td>\n",
       "      <td>2</td>\n",
       "      <td>88</td>\n",
       "      <td>0</td>\n",
       "      <td>0</td>\n",
       "      <td>1234</td>\n",
       "      <td>763</td>\n",
       "      <td>1144</td>\n",
       "      <td>2019</td>\n",
       "    </tr>\n",
       "  </tbody>\n",
       "</table>\n",
       "</div>"
      ],
      "text/plain": [
       "        0  1     C   E   M  N  P     R    S     W  year\n",
       "175  1288  0  5231  17  96  0  0  1292  853  1156  2015\n",
       "176  1236  0  5108  17  95  0  0  1281  849  1156  2016\n",
       "177  1186  0  5012  17  90  0  0  1272  832  1152  2017\n",
       "178  1145  0  4875  17  90  0  0  1259  769  1149  2018\n",
       "179  1089  0  4708   2  88  0  0  1234  763  1144  2019"
      ]
     },
     "execution_count": 26,
     "metadata": {},
     "output_type": "execute_result"
    }
   ],
   "source": [
    "na_tmax.tail()"
   ]
  },
  {
   "cell_type": "code",
   "execution_count": 27,
   "metadata": {},
   "outputs": [
    {
     "data": {
      "image/png": "[encoded data removed]",
      "text/plain": [
       "<Figure size 720x576 with 1 Axes>"
      ]
     },
     "metadata": {
      "needs_background": "light"
     },
     "output_type": "display_data"
    }
   ],
   "source": [
    "na_snow = count_station_types_by_year(na_df, \"SNOW\")\n",
    "fig, ax = plot_station_counts(na_snow,\\\n",
    "                    \"Year\", \"Number of Stations\",\\\n",
    "                    station_types, station_color_dict,\\\n",
    "                    \"Number of Active Stations Measuring Daily Snowfall By Year\",\\\n",
    "                    \"type_snow_by_year.png\")"
   ]
  },
  {
   "cell_type": "code",
   "execution_count": 28,
   "metadata": {},
   "outputs": [
    {
     "data": {
      "image/png": "[encoded data removed]",
      "text/plain": [
       "<Figure size 720x576 with 1 Axes>"
      ]
     },
     "metadata": {
      "needs_background": "light"
     },
     "output_type": "display_data"
    }
   ],
   "source": [
    "na_snwd = count_station_types_by_year(na_df, \"SNWD\")\n",
    "fig, ax = plot_station_counts(na_snwd,\\\n",
    "                    \"Year\", \"Number of Stations\",\\\n",
    "                    station_types, station_color_dict,\\\n",
    "                    \"Number of Active Stations Measuring Daily Snow Depth By Year\",\\\n",
    "                    \"type_snwd_by_year.png\")"
   ]
  },
  {
   "cell_type": "code",
   "execution_count": 29,
   "metadata": {},
   "outputs": [
    {
     "data": {
      "text/plain": [
       "Canada                 0.996217\n",
       "Honduras               0.000504\n",
       "Costa Rica             0.000504\n",
       "Greenland [Denmark]    0.000504\n",
       "Panama                 0.000504\n",
       "Nicaragua              0.000504\n",
       "El Salvador            0.000378\n",
       "Barbados               0.000126\n",
       "Guatemala              0.000126\n",
       "Dominica               0.000126\n",
       "Bahamas, The           0.000126\n",
       "Guadeloupe [France]    0.000126\n",
       "Jamaica                0.000126\n",
       "United States          0.000126\n",
       "Name: country, dtype: float64"
      ]
     },
     "execution_count": 29,
     "metadata": {},
     "output_type": "execute_result"
    }
   ],
   "source": [
    "# Where are the type '0' stations coming from?\n",
    "na_df.drop_duplicates('station_id').query('ctype == \"0\"').country.value_counts(normalize=True)"
   ]
  },
  {
   "cell_type": "code",
   "execution_count": 30,
   "metadata": {},
   "outputs": [
    {
     "data": {
      "text/plain": [
       "United States                     0.991706\n",
       "Puerto Rico [United States]       0.006662\n",
       "Virgin Islands [United States]    0.001632\n",
       "Name: country, dtype: float64"
      ]
     },
     "execution_count": 30,
     "metadata": {},
     "output_type": "execute_result"
    }
   ],
   "source": [
    "# Where are the type 'C' stations coming from?\n",
    "na_df.drop_duplicates('station_id').query('ctype == \"C\"').country.value_counts(normalize=True)"
   ]
  },
  {
   "cell_type": "code",
   "execution_count": 31,
   "metadata": {},
   "outputs": [
    {
     "data": {
      "text/plain": [
       "Mexico    5170\n",
       "Name: country, dtype: int64"
      ]
     },
     "execution_count": 31,
     "metadata": {},
     "output_type": "execute_result"
    }
   ],
   "source": [
    "# Where are the type 'N' stations coming from?\n",
    "na_df.drop_duplicates('station_id').query('ctype == \"N\"').country.value_counts()"
   ]
  },
  {
   "cell_type": "code",
   "execution_count": 32,
   "metadata": {},
   "outputs": [
    {
     "data": {
      "text/plain": [
       "United States                     35020\n",
       "Canada                              876\n",
       "Puerto Rico [United States]          54\n",
       "Bahamas, The                         32\n",
       "Virgin Islands [United States]        4\n",
       "Name: country, dtype: int64"
      ]
     },
     "execution_count": 32,
     "metadata": {},
     "output_type": "execute_result"
    }
   ],
   "source": [
    "# Where are the type '1' stations coming from?\n",
    "na_df.drop_duplicates('station_id').query('ctype == \"1\"').country.value_counts()"
   ]
  },
  {
   "cell_type": "code",
   "execution_count": 33,
   "metadata": {},
   "outputs": [
    {
     "data": {
      "text/html": [
       "<div>\n",
       "<style scoped>\n",
       "    .dataframe tbody tr th:only-of-type {\n",
       "        vertical-align: middle;\n",
       "    }\n",
       "\n",
       "    .dataframe tbody tr th {\n",
       "        vertical-align: top;\n",
       "    }\n",
       "\n",
       "    .dataframe thead th {\n",
       "        text-align: right;\n",
       "    }\n",
       "</style>\n",
       "<table border=\"1\" class=\"dataframe\">\n",
       "  <thead>\n",
       "    <tr style=\"text-align: right;\">\n",
       "      <th></th>\n",
       "      <th></th>\n",
       "      <th>station_id</th>\n",
       "    </tr>\n",
       "    <tr>\n",
       "      <th>country</th>\n",
       "      <th>ctype</th>\n",
       "      <th></th>\n",
       "    </tr>\n",
       "  </thead>\n",
       "  <tbody>\n",
       "    <tr>\n",
       "      <th rowspan=\"3\" valign=\"top\">Canada</th>\n",
       "      <th>0</th>\n",
       "      <td>7901</td>\n",
       "    </tr>\n",
       "    <tr>\n",
       "      <th>1</th>\n",
       "      <td>876</td>\n",
       "    </tr>\n",
       "    <tr>\n",
       "      <th>W</th>\n",
       "      <td>3</td>\n",
       "    </tr>\n",
       "    <tr>\n",
       "      <th rowspan=\"2\" valign=\"top\">Mexico</th>\n",
       "      <th>M</th>\n",
       "      <td>79</td>\n",
       "    </tr>\n",
       "    <tr>\n",
       "      <th>N</th>\n",
       "      <td>5170</td>\n",
       "    </tr>\n",
       "    <tr>\n",
       "      <th rowspan=\"7\" valign=\"top\">United States</th>\n",
       "      <th>0</th>\n",
       "      <td>1</td>\n",
       "    </tr>\n",
       "    <tr>\n",
       "      <th>1</th>\n",
       "      <td>35020</td>\n",
       "    </tr>\n",
       "    <tr>\n",
       "      <th>C</th>\n",
       "      <td>22479</td>\n",
       "    </tr>\n",
       "    <tr>\n",
       "      <th>P</th>\n",
       "      <td>3</td>\n",
       "    </tr>\n",
       "    <tr>\n",
       "      <th>R</th>\n",
       "      <td>1509</td>\n",
       "    </tr>\n",
       "    <tr>\n",
       "      <th>S</th>\n",
       "      <td>859</td>\n",
       "    </tr>\n",
       "    <tr>\n",
       "      <th>W</th>\n",
       "      <td>1742</td>\n",
       "    </tr>\n",
       "  </tbody>\n",
       "</table>\n",
       "</div>"
      ],
      "text/plain": [
       "                     station_id\n",
       "country       ctype            \n",
       "Canada        0            7901\n",
       "              1             876\n",
       "              W               3\n",
       "Mexico        M              79\n",
       "              N            5170\n",
       "United States 0               1\n",
       "              1           35020\n",
       "              C           22479\n",
       "              P               3\n",
       "              R            1509\n",
       "              S             859\n",
       "              W            1742"
      ]
     },
     "execution_count": 33,
     "metadata": {},
     "output_type": "execute_result"
    }
   ],
   "source": [
    "na_df.drop_duplicates('station_id')[['station_id', 'country', 'ctype']]\\\n",
    ".query('country == \"United States\" | country == \"Mexico\" | country == \"Canada\"')\\\n",
    ".groupby(['country', 'ctype']).agg('count')"
   ]
  },
  {
   "cell_type": "code",
   "execution_count": 34,
   "metadata": {},
   "outputs": [
    {
     "data": {
      "text/html": [
       "<div>\n",
       "<style scoped>\n",
       "    .dataframe tbody tr th:only-of-type {\n",
       "        vertical-align: middle;\n",
       "    }\n",
       "\n",
       "    .dataframe tbody tr th {\n",
       "        vertical-align: top;\n",
       "    }\n",
       "\n",
       "    .dataframe thead th {\n",
       "        text-align: right;\n",
       "    }\n",
       "</style>\n",
       "<table border=\"1\" class=\"dataframe\">\n",
       "  <thead>\n",
       "    <tr style=\"text-align: right;\">\n",
       "      <th>ctype</th>\n",
       "      <th>0</th>\n",
       "      <th>1</th>\n",
       "      <th>C</th>\n",
       "      <th>M</th>\n",
       "      <th>N</th>\n",
       "      <th>P</th>\n",
       "      <th>R</th>\n",
       "      <th>S</th>\n",
       "      <th>W</th>\n",
       "    </tr>\n",
       "    <tr>\n",
       "      <th>country</th>\n",
       "      <th></th>\n",
       "      <th></th>\n",
       "      <th></th>\n",
       "      <th></th>\n",
       "      <th></th>\n",
       "      <th></th>\n",
       "      <th></th>\n",
       "      <th></th>\n",
       "      <th></th>\n",
       "    </tr>\n",
       "  </thead>\n",
       "  <tbody>\n",
       "    <tr>\n",
       "      <th>Canada</th>\n",
       "      <td>7901</td>\n",
       "      <td>876</td>\n",
       "      <td>0</td>\n",
       "      <td>0</td>\n",
       "      <td>0</td>\n",
       "      <td>0</td>\n",
       "      <td>0</td>\n",
       "      <td>0</td>\n",
       "      <td>3</td>\n",
       "    </tr>\n",
       "    <tr>\n",
       "      <th>Mexico</th>\n",
       "      <td>0</td>\n",
       "      <td>0</td>\n",
       "      <td>0</td>\n",
       "      <td>79</td>\n",
       "      <td>5170</td>\n",
       "      <td>0</td>\n",
       "      <td>0</td>\n",
       "      <td>0</td>\n",
       "      <td>0</td>\n",
       "    </tr>\n",
       "    <tr>\n",
       "      <th>United States</th>\n",
       "      <td>1</td>\n",
       "      <td>35020</td>\n",
       "      <td>22479</td>\n",
       "      <td>0</td>\n",
       "      <td>0</td>\n",
       "      <td>3</td>\n",
       "      <td>1509</td>\n",
       "      <td>859</td>\n",
       "      <td>1742</td>\n",
       "    </tr>\n",
       "  </tbody>\n",
       "</table>\n",
       "</div>"
      ],
      "text/plain": [
       "ctype             0      1      C   M     N  P     R    S     W\n",
       "country                                                        \n",
       "Canada         7901    876      0   0     0  0     0    0     3\n",
       "Mexico            0      0      0  79  5170  0     0    0     0\n",
       "United States     1  35020  22479   0     0  3  1509  859  1742"
      ]
     },
     "execution_count": 34,
     "metadata": {},
     "output_type": "execute_result"
    }
   ],
   "source": [
    "na_major_types = na_df.drop_duplicates('station_id')[['country', 'ctype']]\\\n",
    ".query('country == \"United States\" | country == \"Mexico\" | country == \"Canada\"')\n",
    "ct = pd.crosstab(na_major_types.country, na_major_types.ctype)\n",
    "ct"
   ]
  },
  {
   "cell_type": "code",
   "execution_count": 35,
   "metadata": {},
   "outputs": [
    {
     "data": {
      "image/png": "[encoded data removed]",
      "text/plain": [
       "<Figure size 720x576 with 1 Axes>"
      ]
     },
     "metadata": {},
     "output_type": "display_data"
    },
    {
     "data": {
      "text/plain": [
       "(<Figure size 720x576 with 1 Axes>,\n",
       " <matplotlib.axes._subplots.AxesSubplot at 0x228d8261ac8>)"
      ]
     },
     "execution_count": 35,
     "metadata": {},
     "output_type": "execute_result"
    }
   ],
   "source": [
    "# Plot the above cross tab\n",
    "def plot_type_bars (df, colors, filename, img_path=IMG_PATH):\n",
    "    sns.set(style=\"whitegrid\")\n",
    "    #sns.set_context(\"paper\")\n",
    "    sns.set(rc={\"font.size\":20,\"axes.titlesize\":20,\"axes.labelsize\":20})\n",
    "\n",
    "    ct = pd.crosstab(df.country, df.ctype)\n",
    "    stacked = ct.stack().reset_index().rename(columns={0:'value'})\n",
    "\n",
    "    fig, ax = plt.subplots(figsize=(10,8))\n",
    "\n",
    "    # plot grouped bar chart\n",
    "    sns.barplot(x=stacked.country, y=stacked.value, hue=stacked.ctype, palette=colors)\n",
    "\n",
    "    ax.set_xlabel(\"Station Type\")\n",
    "    \n",
    "    #ax.set_title(\"\")\n",
    "    fig.get_axes()[0].set_yscale('log')\n",
    "    ax.set_ylabel(\"Number of Stations\")\n",
    "    \n",
    "    output_file = os.path.join(img_path, filename)\n",
    "    fig.savefig(output_file)\n",
    "    plt.show()\n",
    "\n",
    "    return fig, ax\n",
    "\n",
    "plot_type_bars(na_major_types, station_color_dict, \"type-bars\")"
   ]
  },
  {
   "cell_type": "code",
   "execution_count": 36,
   "metadata": {},
   "outputs": [
    {
     "data": {
      "text/plain": [
       "United States                         61613\n",
       "Canada                                 8780\n",
       "Mexico                                 5249\n",
       "Puerto Rico [United States]             211\n",
       "Greenland [Denmark]                      69\n",
       "Virgin Islands [United States]           43\n",
       "Bahamas, The                             38\n",
       "Panama                                   10\n",
       "Honduras                                  8\n",
       "Nicaragua                                 6\n",
       "Cuba                                      6\n",
       "Costa Rica                                6\n",
       "Dominican Republic                        5\n",
       "Trinidad and Tobago                       4\n",
       "El Salvador                               3\n",
       "Jamaica                                   3\n",
       "Guadeloupe [France]                       3\n",
       "Antigua and Barbuda                       2\n",
       "Saint Lucia                               2\n",
       "Martinique [France]                       2\n",
       "Bermuda [United Kingdom]                  2\n",
       "Guatemala                                 1\n",
       "Dominica                                  1\n",
       "Cayman Islands [United Kingdom]           1\n",
       "Saint Pierre and Miquelon [France]        1\n",
       "Barbados                                  1\n",
       "Belize                                    1\n",
       "Sint Maarten                              1\n",
       "Curacao                                   1\n",
       "Name: country, dtype: int64"
      ]
     },
     "execution_count": 36,
     "metadata": {},
     "output_type": "execute_result"
    }
   ],
   "source": [
    "na_df.drop_duplicates('station_id').country.value_counts()"
   ]
  },
  {
   "cell_type": "markdown",
   "metadata": {},
   "source": [
    "# Consider Station Types by Continent"
   ]
  },
  {
   "cell_type": "code",
   "execution_count": 37,
   "metadata": {},
   "outputs": [
    {
     "data": {
      "text/html": [
       "<div>\n",
       "<style scoped>\n",
       "    .dataframe tbody tr th:only-of-type {\n",
       "        vertical-align: middle;\n",
       "    }\n",
       "\n",
       "    .dataframe tbody tr th {\n",
       "        vertical-align: top;\n",
       "    }\n",
       "\n",
       "    .dataframe thead th {\n",
       "        text-align: right;\n",
       "    }\n",
       "</style>\n",
       "<table border=\"1\" class=\"dataframe\">\n",
       "  <thead>\n",
       "    <tr style=\"text-align: right;\">\n",
       "      <th>continent</th>\n",
       "      <th>Africa</th>\n",
       "      <th>Antartica</th>\n",
       "      <th>Asia</th>\n",
       "      <th>Europe</th>\n",
       "      <th>North America</th>\n",
       "      <th>Oceania</th>\n",
       "      <th>South America</th>\n",
       "    </tr>\n",
       "    <tr>\n",
       "      <th>element</th>\n",
       "      <th></th>\n",
       "      <th></th>\n",
       "      <th></th>\n",
       "      <th></th>\n",
       "      <th></th>\n",
       "      <th></th>\n",
       "      <th></th>\n",
       "    </tr>\n",
       "  </thead>\n",
       "  <tbody>\n",
       "    <tr>\n",
       "      <th>PRCP</th>\n",
       "      <td>2104</td>\n",
       "      <td>55</td>\n",
       "      <td>5698</td>\n",
       "      <td>6703</td>\n",
       "      <td>74440</td>\n",
       "      <td>17263</td>\n",
       "      <td>6500</td>\n",
       "    </tr>\n",
       "    <tr>\n",
       "      <th>TMAX</th>\n",
       "      <td>690</td>\n",
       "      <td>61</td>\n",
       "      <td>1609</td>\n",
       "      <td>4521</td>\n",
       "      <td>30949</td>\n",
       "      <td>1801</td>\n",
       "      <td>463</td>\n",
       "    </tr>\n",
       "    <tr>\n",
       "      <th>TMIN</th>\n",
       "      <td>688</td>\n",
       "      <td>63</td>\n",
       "      <td>1609</td>\n",
       "      <td>4522</td>\n",
       "      <td>30838</td>\n",
       "      <td>1799</td>\n",
       "      <td>467</td>\n",
       "    </tr>\n",
       "    <tr>\n",
       "      <th>SNOW</th>\n",
       "      <td>8</td>\n",
       "      <td>16</td>\n",
       "      <td>153</td>\n",
       "      <td>91</td>\n",
       "      <td>65842</td>\n",
       "      <td>130</td>\n",
       "      <td>4</td>\n",
       "    </tr>\n",
       "    <tr>\n",
       "      <th>SNWD</th>\n",
       "      <td>86</td>\n",
       "      <td>37</td>\n",
       "      <td>995</td>\n",
       "      <td>4658</td>\n",
       "      <td>52549</td>\n",
       "      <td>130</td>\n",
       "      <td>106</td>\n",
       "    </tr>\n",
       "  </tbody>\n",
       "</table>\n",
       "</div>"
      ],
      "text/plain": [
       "continent  Africa  Antartica  Asia  Europe  North America  Oceania  \\\n",
       "element                                                              \n",
       "PRCP         2104         55  5698    6703          74440    17263   \n",
       "TMAX          690         61  1609    4521          30949     1801   \n",
       "TMIN          688         63  1609    4522          30838     1799   \n",
       "SNOW            8         16   153      91          65842      130   \n",
       "SNWD           86         37   995    4658          52549      130   \n",
       "\n",
       "continent  South America  \n",
       "element                   \n",
       "PRCP                6500  \n",
       "TMAX                 463  \n",
       "TMIN                 467  \n",
       "SNOW                   4  \n",
       "SNWD                 106  "
      ]
     },
     "execution_count": 37,
     "metadata": {},
     "output_type": "execute_result"
    }
   ],
   "source": [
    "element_by_continent = pd.crosstab(df.element, df.continent).loc[['PRCP', 'TMAX', 'TMIN', 'SNOW', 'SNWD'], :]\n",
    "element_by_continent"
   ]
  },
  {
   "cell_type": "code",
   "execution_count": 38,
   "metadata": {},
   "outputs": [
    {
     "data": {
      "image/png": "[encoded data removed]",
      "text/plain": [
       "<Figure size 720x576 with 1 Axes>"
      ]
     },
     "metadata": {},
     "output_type": "display_data"
    },
    {
     "data": {
      "text/plain": [
       "(<Figure size 720x576 with 1 Axes>,\n",
       " <matplotlib.axes._subplots.AxesSubplot at 0x228d97912e8>)"
      ]
     },
     "execution_count": 38,
     "metadata": {},
     "output_type": "execute_result"
    }
   ],
   "source": [
    "# Plot the above cross tab\n",
    "def plot_continent_bars (df, filename, img_path=IMG_PATH):\n",
    "    sns.set(style=\"whitegrid\")\n",
    "    #sns.set_context(\"paper\")\n",
    "    sns.set(rc={\"font.size\":20,\"axes.titlesize\":20,\"axes.labelsize\":20})\n",
    "\n",
    "    ct = pd.crosstab(df.element, df.continent).loc[['PRCP', 'TMAX', 'TMIN', 'SNOW', 'SNWD'], :]\n",
    "    stacked = ct.stack().reset_index().rename(columns={0:'value'})\n",
    "\n",
    "    fig, ax = plt.subplots(figsize=(10,8))\n",
    "\n",
    "    # plot grouped bar chart\n",
    "    sns.barplot(x=stacked.element, y=stacked.value, hue=stacked.continent)\n",
    "\n",
    "    ax.set_xlabel(\"Element\")\n",
    "    ax.set_ylabel(\"Number of Stations\")\n",
    "    #ax.set_title(\"\")\n",
    "    \n",
    "    output_file = os.path.join(img_path, filename)\n",
    "    fig.savefig(output_file)\n",
    "    plt.show()\n",
    "\n",
    "    return fig, ax\n",
    "\n",
    "plot_continent_bars(df, \"continent-bars\")"
   ]
  },
  {
   "cell_type": "code",
   "execution_count": null,
   "metadata": {},
   "outputs": [],
   "source": []
  }
 ],
 "metadata": {
  "kernelspec": {
   "display_name": "Python 3",
   "language": "python",
   "name": "python3"
  },
  "language_info": {
   "codemirror_mode": {
    "name": "ipython",
    "version": 3
   },
   "file_extension": ".py",
   "mimetype": "text/x-python",
   "name": "python",
   "nbconvert_exporter": "python",
   "pygments_lexer": "ipython3",
   "version": "3.6.7"
  }
 },
 "nbformat": 4,
 "nbformat_minor": 2
}
